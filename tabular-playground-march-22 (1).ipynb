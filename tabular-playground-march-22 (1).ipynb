{
 "cells": [
  {
   "cell_type": "code",
   "execution_count": 12,
   "metadata": {
    "_cell_guid": "b1076dfc-b9ad-4769-8c92-a6c4dae69d19",
    "_uuid": "8f2839f25d086af736a60e9eeb907d3b93b6e0e5",
    "execution": {
     "iopub.execute_input": "2022-03-31T07:38:31.836616Z",
     "iopub.status.busy": "2022-03-31T07:38:31.836264Z",
     "iopub.status.idle": "2022-03-31T07:38:33.173600Z",
     "shell.execute_reply": "2022-03-31T07:38:33.172731Z",
     "shell.execute_reply.started": "2022-03-31T07:38:31.836521Z"
    }
   },
   "outputs": [],
   "source": [
    "import numpy as np # linear algebra\n",
    "import pandas as pd\n",
    "import datetime# data processing, CSV file I/O (e.g. pd.read_csv)\n",
    "import matplotlib.pyplot as plt\n",
    "import seaborn as sns\n",
    "from catboost import CatBoostRegressor\n",
    "from sklearn.model_selection import KFold\n",
    "from sklearn.metrics import mean_absolute_error"
   ]
  },
  {
   "cell_type": "code",
   "execution_count": 13,
   "metadata": {
    "execution": {
     "iopub.execute_input": "2022-03-31T07:38:33.175951Z",
     "iopub.status.busy": "2022-03-31T07:38:33.175646Z",
     "iopub.status.idle": "2022-03-31T07:38:34.051773Z",
     "shell.execute_reply": "2022-03-31T07:38:34.051009Z",
     "shell.execute_reply.started": "2022-03-31T07:38:33.175912Z"
    }
   },
   "outputs": [
    {
     "data": {
      "text/html": [
       "<div>\n",
       "<style scoped>\n",
       "    .dataframe tbody tr th:only-of-type {\n",
       "        vertical-align: middle;\n",
       "    }\n",
       "\n",
       "    .dataframe tbody tr th {\n",
       "        vertical-align: top;\n",
       "    }\n",
       "\n",
       "    .dataframe thead th {\n",
       "        text-align: right;\n",
       "    }\n",
       "</style>\n",
       "<table border=\"1\" class=\"dataframe\">\n",
       "  <thead>\n",
       "    <tr style=\"text-align: right;\">\n",
       "      <th></th>\n",
       "      <th>time</th>\n",
       "      <th>x</th>\n",
       "      <th>y</th>\n",
       "      <th>direction</th>\n",
       "      <th>congestion</th>\n",
       "    </tr>\n",
       "    <tr>\n",
       "      <th>row_id</th>\n",
       "      <th></th>\n",
       "      <th></th>\n",
       "      <th></th>\n",
       "      <th></th>\n",
       "      <th></th>\n",
       "    </tr>\n",
       "  </thead>\n",
       "  <tbody>\n",
       "    <tr>\n",
       "      <th>0</th>\n",
       "      <td>1991-04-01 00:00:00</td>\n",
       "      <td>0</td>\n",
       "      <td>0</td>\n",
       "      <td>EB</td>\n",
       "      <td>70</td>\n",
       "    </tr>\n",
       "    <tr>\n",
       "      <th>1</th>\n",
       "      <td>1991-04-01 00:00:00</td>\n",
       "      <td>0</td>\n",
       "      <td>0</td>\n",
       "      <td>NB</td>\n",
       "      <td>49</td>\n",
       "    </tr>\n",
       "    <tr>\n",
       "      <th>2</th>\n",
       "      <td>1991-04-01 00:00:00</td>\n",
       "      <td>0</td>\n",
       "      <td>0</td>\n",
       "      <td>SB</td>\n",
       "      <td>24</td>\n",
       "    </tr>\n",
       "    <tr>\n",
       "      <th>3</th>\n",
       "      <td>1991-04-01 00:00:00</td>\n",
       "      <td>0</td>\n",
       "      <td>1</td>\n",
       "      <td>EB</td>\n",
       "      <td>18</td>\n",
       "    </tr>\n",
       "    <tr>\n",
       "      <th>4</th>\n",
       "      <td>1991-04-01 00:00:00</td>\n",
       "      <td>0</td>\n",
       "      <td>1</td>\n",
       "      <td>NB</td>\n",
       "      <td>60</td>\n",
       "    </tr>\n",
       "  </tbody>\n",
       "</table>\n",
       "</div>"
      ],
      "text/plain": [
       "                       time  x  y direction  congestion\n",
       "row_id                                                 \n",
       "0       1991-04-01 00:00:00  0  0        EB          70\n",
       "1       1991-04-01 00:00:00  0  0        NB          49\n",
       "2       1991-04-01 00:00:00  0  0        SB          24\n",
       "3       1991-04-01 00:00:00  0  1        EB          18\n",
       "4       1991-04-01 00:00:00  0  1        NB          60"
      ]
     },
     "execution_count": 13,
     "metadata": {},
     "output_type": "execute_result"
    }
   ],
   "source": [
    "train_data = pd.read_csv('C:/Users/hp/Documents/tps_mar22_train.csv', index_col = 'row_id')\n",
    "train_data.head()"
   ]
  },
  {
   "cell_type": "code",
   "execution_count": 14,
   "metadata": {
    "execution": {
     "iopub.execute_input": "2022-03-31T07:38:34.053516Z",
     "iopub.status.busy": "2022-03-31T07:38:34.053247Z",
     "iopub.status.idle": "2022-03-31T07:38:34.062279Z",
     "shell.execute_reply": "2022-03-31T07:38:34.061299Z",
     "shell.execute_reply.started": "2022-03-31T07:38:34.053477Z"
    }
   },
   "outputs": [],
   "source": [
    "def preprocess(df):\n",
    "    df['time'] = pd.to_datetime(df['time'])\n",
    "    df['year'] = df['time'].dt.year\n",
    "    df['month'] = df['time'].dt.month\n",
    "    df['day'] = df['time'].dt.day\n",
    "    df['hour'] = df['time'].dt.hour\n",
    "    df['minute'] = df['time'].dt.minute\n",
    "    df['weekday'] = df['time'].dt.dayofweek\n",
    "    df['is_weekend'] = df['weekday'] > 4\n",
    "    df.drop('time', axis = 1, inplace = True)\n",
    "    df.direction = df.direction.astype('category').cat.codes\n",
    "    df.is_weekend = df.is_weekend.astype('category').cat.codes\n",
    "    \n",
    "#     df.drop('time', axis = 1, inplace = True)\n",
    "#     weekday_series = df['weekday']\n",
    "#     weekday_series[weekday_series < 5] = 0\n",
    "#     weekday_series[weekday_series > 4] = 1\n",
    "#     df['is_weekend'] = weekday_series"
   ]
  },
  {
   "cell_type": "code",
   "execution_count": 15,
   "metadata": {
    "execution": {
     "iopub.execute_input": "2022-03-31T07:38:34.065102Z",
     "iopub.status.busy": "2022-03-31T07:38:34.064400Z",
     "iopub.status.idle": "2022-03-31T07:38:34.885739Z",
     "shell.execute_reply": "2022-03-31T07:38:34.884861Z",
     "shell.execute_reply.started": "2022-03-31T07:38:34.065056Z"
    }
   },
   "outputs": [
    {
     "data": {
      "text/html": [
       "<div>\n",
       "<style scoped>\n",
       "    .dataframe tbody tr th:only-of-type {\n",
       "        vertical-align: middle;\n",
       "    }\n",
       "\n",
       "    .dataframe tbody tr th {\n",
       "        vertical-align: top;\n",
       "    }\n",
       "\n",
       "    .dataframe thead th {\n",
       "        text-align: right;\n",
       "    }\n",
       "</style>\n",
       "<table border=\"1\" class=\"dataframe\">\n",
       "  <thead>\n",
       "    <tr style=\"text-align: right;\">\n",
       "      <th></th>\n",
       "      <th>x</th>\n",
       "      <th>y</th>\n",
       "      <th>direction</th>\n",
       "      <th>congestion</th>\n",
       "      <th>year</th>\n",
       "      <th>month</th>\n",
       "      <th>day</th>\n",
       "      <th>hour</th>\n",
       "      <th>minute</th>\n",
       "      <th>weekday</th>\n",
       "      <th>is_weekend</th>\n",
       "    </tr>\n",
       "    <tr>\n",
       "      <th>row_id</th>\n",
       "      <th></th>\n",
       "      <th></th>\n",
       "      <th></th>\n",
       "      <th></th>\n",
       "      <th></th>\n",
       "      <th></th>\n",
       "      <th></th>\n",
       "      <th></th>\n",
       "      <th></th>\n",
       "      <th></th>\n",
       "      <th></th>\n",
       "    </tr>\n",
       "  </thead>\n",
       "  <tbody>\n",
       "    <tr>\n",
       "      <th>0</th>\n",
       "      <td>0</td>\n",
       "      <td>0</td>\n",
       "      <td>0</td>\n",
       "      <td>70</td>\n",
       "      <td>1991</td>\n",
       "      <td>4</td>\n",
       "      <td>1</td>\n",
       "      <td>0</td>\n",
       "      <td>0</td>\n",
       "      <td>0</td>\n",
       "      <td>0</td>\n",
       "    </tr>\n",
       "    <tr>\n",
       "      <th>1</th>\n",
       "      <td>0</td>\n",
       "      <td>0</td>\n",
       "      <td>1</td>\n",
       "      <td>49</td>\n",
       "      <td>1991</td>\n",
       "      <td>4</td>\n",
       "      <td>1</td>\n",
       "      <td>0</td>\n",
       "      <td>0</td>\n",
       "      <td>0</td>\n",
       "      <td>0</td>\n",
       "    </tr>\n",
       "    <tr>\n",
       "      <th>2</th>\n",
       "      <td>0</td>\n",
       "      <td>0</td>\n",
       "      <td>4</td>\n",
       "      <td>24</td>\n",
       "      <td>1991</td>\n",
       "      <td>4</td>\n",
       "      <td>1</td>\n",
       "      <td>0</td>\n",
       "      <td>0</td>\n",
       "      <td>0</td>\n",
       "      <td>0</td>\n",
       "    </tr>\n",
       "    <tr>\n",
       "      <th>3</th>\n",
       "      <td>0</td>\n",
       "      <td>1</td>\n",
       "      <td>0</td>\n",
       "      <td>18</td>\n",
       "      <td>1991</td>\n",
       "      <td>4</td>\n",
       "      <td>1</td>\n",
       "      <td>0</td>\n",
       "      <td>0</td>\n",
       "      <td>0</td>\n",
       "      <td>0</td>\n",
       "    </tr>\n",
       "    <tr>\n",
       "      <th>4</th>\n",
       "      <td>0</td>\n",
       "      <td>1</td>\n",
       "      <td>1</td>\n",
       "      <td>60</td>\n",
       "      <td>1991</td>\n",
       "      <td>4</td>\n",
       "      <td>1</td>\n",
       "      <td>0</td>\n",
       "      <td>0</td>\n",
       "      <td>0</td>\n",
       "      <td>0</td>\n",
       "    </tr>\n",
       "  </tbody>\n",
       "</table>\n",
       "</div>"
      ],
      "text/plain": [
       "        x  y  direction  congestion  year  month  day  hour  minute  weekday  \\\n",
       "row_id                                                                         \n",
       "0       0  0          0          70  1991      4    1     0       0        0   \n",
       "1       0  0          1          49  1991      4    1     0       0        0   \n",
       "2       0  0          4          24  1991      4    1     0       0        0   \n",
       "3       0  1          0          18  1991      4    1     0       0        0   \n",
       "4       0  1          1          60  1991      4    1     0       0        0   \n",
       "\n",
       "        is_weekend  \n",
       "row_id              \n",
       "0                0  \n",
       "1                0  \n",
       "2                0  \n",
       "3                0  \n",
       "4                0  "
      ]
     },
     "execution_count": 15,
     "metadata": {},
     "output_type": "execute_result"
    }
   ],
   "source": [
    "preprocess(train_data)\n",
    "train_data.head()"
   ]
  },
  {
   "cell_type": "code",
   "execution_count": 16,
   "metadata": {
    "execution": {
     "iopub.execute_input": "2022-03-31T07:38:34.888465Z",
     "iopub.status.busy": "2022-03-31T07:38:34.888244Z",
     "iopub.status.idle": "2022-03-31T07:38:34.905162Z",
     "shell.execute_reply": "2022-03-31T07:38:34.904487Z",
     "shell.execute_reply.started": "2022-03-31T07:38:34.888438Z"
    }
   },
   "outputs": [
    {
     "data": {
      "text/plain": [
       "array([0, 1, 2, 3, 4, 5, 6], dtype=int64)"
      ]
     },
     "execution_count": 16,
     "metadata": {},
     "output_type": "execute_result"
    }
   ],
   "source": [
    "train_data['weekday'].unique()"
   ]
  },
  {
   "cell_type": "code",
   "execution_count": 17,
   "metadata": {
    "execution": {
     "iopub.execute_input": "2022-03-31T07:38:34.906806Z",
     "iopub.status.busy": "2022-03-31T07:38:34.906424Z",
     "iopub.status.idle": "2022-03-31T07:38:34.924779Z",
     "shell.execute_reply": "2022-03-31T07:38:34.923952Z",
     "shell.execute_reply.started": "2022-03-31T07:38:34.906762Z"
    }
   },
   "outputs": [
    {
     "data": {
      "text/plain": [
       "array([0, 1], dtype=int8)"
      ]
     },
     "execution_count": 17,
     "metadata": {},
     "output_type": "execute_result"
    }
   ],
   "source": [
    "train_data['is_weekend'].unique()"
   ]
  },
  {
   "cell_type": "code",
   "execution_count": 18,
   "metadata": {
    "execution": {
     "iopub.execute_input": "2022-03-31T07:38:34.926419Z",
     "iopub.status.busy": "2022-03-31T07:38:34.926107Z",
     "iopub.status.idle": "2022-03-31T07:38:38.744634Z",
     "shell.execute_reply": "2022-03-31T07:38:38.743842Z",
     "shell.execute_reply.started": "2022-03-31T07:38:34.926376Z"
    }
   },
   "outputs": [
    {
     "data": {
      "text/plain": [
       "Text(0.5, 1.0, 'Distribution of congestion')"
      ]
     },
     "execution_count": 18,
     "metadata": {},
     "output_type": "execute_result"
    },
    {
     "data": {
      "text/plain": [
       "<Figure size 1000x600 with 0 Axes>"
      ]
     },
     "metadata": {},
     "output_type": "display_data"
    },
    {
     "data": {
      "image/png": "[encoded data removed]",
      "text/plain": [
       "<Figure size 1500x1000 with 1 Axes>"
      ]
     },
     "metadata": {},
     "output_type": "display_data"
    }
   ],
   "source": [
    "plt.figure(figsize = (10, 6))\n",
    "sns.displot(x = 'congestion', data = train_data, bins = 50, kde = True, height = 10, aspect = 1.5, color = 'Black')\n",
    "plt.title('Distribution of congestion', fontsize = 18)"
   ]
  },
  {
   "cell_type": "code",
   "execution_count": 19,
   "metadata": {
    "execution": {
     "iopub.execute_input": "2022-03-31T07:38:38.746693Z",
     "iopub.status.busy": "2022-03-31T07:38:38.746173Z",
     "iopub.status.idle": "2022-03-31T07:38:38.768930Z",
     "shell.execute_reply": "2022-03-31T07:38:38.768045Z",
     "shell.execute_reply.started": "2022-03-31T07:38:38.746639Z"
    }
   },
   "outputs": [
    {
     "data": {
      "text/plain": [
       "x             0\n",
       "y             0\n",
       "direction     0\n",
       "congestion    0\n",
       "year          0\n",
       "month         0\n",
       "day           0\n",
       "hour          0\n",
       "minute        0\n",
       "weekday       0\n",
       "is_weekend    0\n",
       "dtype: int64"
      ]
     },
     "execution_count": 19,
     "metadata": {},
     "output_type": "execute_result"
    }
   ],
   "source": [
    "train_data.isnull().sum()"
   ]
  },
  {
   "cell_type": "code",
   "execution_count": 20,
   "metadata": {
    "execution": {
     "iopub.execute_input": "2022-03-31T07:38:38.770831Z",
     "iopub.status.busy": "2022-03-31T07:38:38.770403Z",
     "iopub.status.idle": "2022-03-31T07:38:38.778761Z",
     "shell.execute_reply": "2022-03-31T07:38:38.777730Z",
     "shell.execute_reply.started": "2022-03-31T07:38:38.770789Z"
    }
   },
   "outputs": [],
   "source": [
    "def box_plot(col_name):\n",
    "    fig, axes = plt.subplots(nrows=2, ncols=1, figsize = (14, 10))\n",
    "    sns.boxplot(ax = axes[0], x = col_name , y = 'congestion', data = train_data, \n",
    "                width = 1, palette = 'magma')\n",
    "    axes[0].ticklabel_format(style = 'plain', axis = 'y')\n",
    "    axes[0].set_title((col_name + ' vs congestion'), fontsize = 16)\n",
    "\n",
    "    sns.countplot(ax = axes[1], x = col_name , data = train_data, palette = 'magma')\n",
    "    axes[1].set_title((col_name + ' Count'), fontsize = 16)\n",
    "    plt.subplots_adjust(hspace = 0.4)"
   ]
  },
  {
   "cell_type": "code",
   "execution_count": 21,
   "metadata": {
    "execution": {
     "iopub.execute_input": "2022-03-31T07:38:38.781095Z",
     "iopub.status.busy": "2022-03-31T07:38:38.780693Z",
     "iopub.status.idle": "2022-03-31T07:38:39.430775Z",
     "shell.execute_reply": "2022-03-31T07:38:39.429952Z",
     "shell.execute_reply.started": "2022-03-31T07:38:38.781051Z"
    }
   },
   "outputs": [
    {
     "data": {
      "image/png": "[encoded data removed]",
      "text/plain": [
       "<Figure size 1400x1000 with 2 Axes>"
      ]
     },
     "metadata": {},
     "output_type": "display_data"
    }
   ],
   "source": [
    "box_plot('weekday')"
   ]
  },
  {
   "cell_type": "code",
   "execution_count": 22,
   "metadata": {
    "execution": {
     "iopub.execute_input": "2022-03-31T07:38:39.432817Z",
     "iopub.status.busy": "2022-03-31T07:38:39.432316Z",
     "iopub.status.idle": "2022-03-31T07:38:39.927925Z",
     "shell.execute_reply": "2022-03-31T07:38:39.927161Z",
     "shell.execute_reply.started": "2022-03-31T07:38:39.432770Z"
    }
   },
   "outputs": [
    {
     "data": {
      "image/png": "[encoded data removed]",
      "text/plain": [
       "<Figure size 1400x1000 with 2 Axes>"
      ]
     },
     "metadata": {},
     "output_type": "display_data"
    }
   ],
   "source": [
    "box_plot('is_weekend')"
   ]
  },
  {
   "cell_type": "code",
   "execution_count": 23,
   "metadata": {
    "execution": {
     "iopub.execute_input": "2022-03-31T07:38:39.929900Z",
     "iopub.status.busy": "2022-03-31T07:38:39.929417Z",
     "iopub.status.idle": "2022-03-31T07:38:40.993796Z",
     "shell.execute_reply": "2022-03-31T07:38:40.992891Z",
     "shell.execute_reply.started": "2022-03-31T07:38:39.929855Z"
    }
   },
   "outputs": [
    {
     "data": {
      "image/png": "[encoded data removed]",
      "text/plain": [
       "<Figure size 1400x1000 with 2 Axes>"
      ]
     },
     "metadata": {},
     "output_type": "display_data"
    }
   ],
   "source": [
    "box_plot('direction')"
   ]
  },
  {
   "cell_type": "code",
   "execution_count": 24,
   "metadata": {
    "execution": {
     "iopub.execute_input": "2022-03-31T07:38:40.995487Z",
     "iopub.status.busy": "2022-03-31T07:38:40.995004Z",
     "iopub.status.idle": "2022-03-31T07:38:41.008235Z",
     "shell.execute_reply": "2022-03-31T07:38:41.007176Z",
     "shell.execute_reply.started": "2022-03-31T07:38:40.995444Z"
    }
   },
   "outputs": [
    {
     "data": {
      "text/plain": [
       "0    18684\n",
       "1     7434\n",
       "Name: is_weekend, dtype: int64"
      ]
     },
     "execution_count": 24,
     "metadata": {},
     "output_type": "execute_result"
    }
   ],
   "source": [
    "train_data.loc[train_data['direction'] == 3,  'is_weekend'].value_counts()"
   ]
  },
  {
   "cell_type": "code",
   "execution_count": 25,
   "metadata": {
    "execution": {
     "iopub.execute_input": "2022-03-31T07:38:41.012963Z",
     "iopub.status.busy": "2022-03-31T07:38:41.012710Z",
     "iopub.status.idle": "2022-03-31T07:38:41.025143Z",
     "shell.execute_reply": "2022-03-31T07:38:41.024214Z",
     "shell.execute_reply.started": "2022-03-31T07:38:41.012932Z"
    }
   },
   "outputs": [
    {
     "data": {
      "text/plain": [
       "0    18684\n",
       "1     7434\n",
       "Name: is_weekend, dtype: int64"
      ]
     },
     "execution_count": 25,
     "metadata": {},
     "output_type": "execute_result"
    }
   ],
   "source": [
    "train_data.loc[train_data['direction'] == 5, 'is_weekend'].value_counts()"
   ]
  },
  {
   "cell_type": "code",
   "execution_count": 26,
   "metadata": {
    "execution": {
     "iopub.execute_input": "2022-03-31T07:38:41.027543Z",
     "iopub.status.busy": "2022-03-31T07:38:41.026743Z",
     "iopub.status.idle": "2022-03-31T07:38:41.048643Z",
     "shell.execute_reply": "2022-03-31T07:38:41.047901Z",
     "shell.execute_reply.started": "2022-03-31T07:38:41.027508Z"
    }
   },
   "outputs": [
    {
     "data": {
      "text/html": [
       "<div>\n",
       "<style scoped>\n",
       "    .dataframe tbody tr th:only-of-type {\n",
       "        vertical-align: middle;\n",
       "    }\n",
       "\n",
       "    .dataframe tbody tr th {\n",
       "        vertical-align: top;\n",
       "    }\n",
       "\n",
       "    .dataframe thead th {\n",
       "        text-align: right;\n",
       "    }\n",
       "</style>\n",
       "<table border=\"1\" class=\"dataframe\">\n",
       "  <thead>\n",
       "    <tr style=\"text-align: right;\">\n",
       "      <th></th>\n",
       "      <th>direction</th>\n",
       "      <th>is_weekend</th>\n",
       "      <th>congestion</th>\n",
       "    </tr>\n",
       "    <tr>\n",
       "      <th>row_id</th>\n",
       "      <th></th>\n",
       "      <th></th>\n",
       "      <th></th>\n",
       "    </tr>\n",
       "  </thead>\n",
       "  <tbody>\n",
       "    <tr>\n",
       "      <th>46</th>\n",
       "      <td>3</td>\n",
       "      <td>0</td>\n",
       "      <td>29</td>\n",
       "    </tr>\n",
       "    <tr>\n",
       "      <th>54</th>\n",
       "      <td>3</td>\n",
       "      <td>0</td>\n",
       "      <td>21</td>\n",
       "    </tr>\n",
       "    <tr>\n",
       "      <th>111</th>\n",
       "      <td>3</td>\n",
       "      <td>0</td>\n",
       "      <td>29</td>\n",
       "    </tr>\n",
       "    <tr>\n",
       "      <th>119</th>\n",
       "      <td>3</td>\n",
       "      <td>0</td>\n",
       "      <td>21</td>\n",
       "    </tr>\n",
       "    <tr>\n",
       "      <th>176</th>\n",
       "      <td>3</td>\n",
       "      <td>0</td>\n",
       "      <td>29</td>\n",
       "    </tr>\n",
       "    <tr>\n",
       "      <th>...</th>\n",
       "      <td>...</td>\n",
       "      <td>...</td>\n",
       "      <td>...</td>\n",
       "    </tr>\n",
       "    <tr>\n",
       "      <th>848694</th>\n",
       "      <td>3</td>\n",
       "      <td>0</td>\n",
       "      <td>21</td>\n",
       "    </tr>\n",
       "    <tr>\n",
       "      <th>848751</th>\n",
       "      <td>3</td>\n",
       "      <td>0</td>\n",
       "      <td>29</td>\n",
       "    </tr>\n",
       "    <tr>\n",
       "      <th>848759</th>\n",
       "      <td>3</td>\n",
       "      <td>0</td>\n",
       "      <td>22</td>\n",
       "    </tr>\n",
       "    <tr>\n",
       "      <th>848816</th>\n",
       "      <td>3</td>\n",
       "      <td>0</td>\n",
       "      <td>29</td>\n",
       "    </tr>\n",
       "    <tr>\n",
       "      <th>848824</th>\n",
       "      <td>3</td>\n",
       "      <td>0</td>\n",
       "      <td>21</td>\n",
       "    </tr>\n",
       "  </tbody>\n",
       "</table>\n",
       "<p>26118 rows × 3 columns</p>\n",
       "</div>"
      ],
      "text/plain": [
       "        direction  is_weekend  congestion\n",
       "row_id                                   \n",
       "46              3           0          29\n",
       "54              3           0          21\n",
       "111             3           0          29\n",
       "119             3           0          21\n",
       "176             3           0          29\n",
       "...           ...         ...         ...\n",
       "848694          3           0          21\n",
       "848751          3           0          29\n",
       "848759          3           0          22\n",
       "848816          3           0          29\n",
       "848824          3           0          21\n",
       "\n",
       "[26118 rows x 3 columns]"
      ]
     },
     "execution_count": 26,
     "metadata": {},
     "output_type": "execute_result"
    }
   ],
   "source": [
    "abc = train_data.loc[train_data['direction'] == 3, ['direction', 'is_weekend', 'congestion']]\n",
    "abc"
   ]
  },
  {
   "cell_type": "code",
   "execution_count": 27,
   "metadata": {
    "execution": {
     "iopub.execute_input": "2022-03-31T07:38:41.050578Z",
     "iopub.status.busy": "2022-03-31T07:38:41.049822Z",
     "iopub.status.idle": "2022-03-31T07:38:41.107716Z",
     "shell.execute_reply": "2022-03-31T07:38:41.106920Z",
     "shell.execute_reply.started": "2022-03-31T07:38:41.050536Z"
    }
   },
   "outputs": [
    {
     "name": "stdout",
     "output_type": "stream",
     "text": [
      "Day0\n",
      "0    80259\n",
      "1    28712\n",
      "Name: is_weekend, dtype: int64\n",
      "Day1\n",
      "0    84659\n",
      "1    30482\n",
      "Name: is_weekend, dtype: int64\n",
      "Day2\n",
      "0    30604\n",
      "1    10299\n",
      "Name: is_weekend, dtype: int64\n",
      "Day3\n",
      "0    1771\n",
      "1     325\n",
      "Name: is_weekend, dtype: int64\n",
      "Day4\n",
      "0    91676\n",
      "1    34198\n",
      "Name: is_weekend, dtype: int64\n",
      "Day5\n",
      "0    3263\n",
      "1     961\n",
      "Name: is_weekend, dtype: int64\n",
      "Day6\n",
      "0    37120\n",
      "1    14079\n",
      "Name: is_weekend, dtype: int64\n",
      "Day7\n",
      "0    72182\n",
      "1    25139\n",
      "Name: is_weekend, dtype: int64\n"
     ]
    }
   ],
   "source": [
    "for i in range(8):\n",
    "    cond1 = train_data['direction']==i\n",
    "    cond2 = train_data['congestion']>40\n",
    "    print(f'Day{i}')\n",
    "    print(train_data.loc[(cond1&cond2),'is_weekend'].value_counts())"
   ]
  },
  {
   "cell_type": "code",
   "execution_count": 28,
   "metadata": {
    "execution": {
     "iopub.execute_input": "2022-03-31T07:38:41.109097Z",
     "iopub.status.busy": "2022-03-31T07:38:41.108831Z",
     "iopub.status.idle": "2022-03-31T07:38:41.166937Z",
     "shell.execute_reply": "2022-03-31T07:38:41.165990Z",
     "shell.execute_reply.started": "2022-03-31T07:38:41.109056Z"
    }
   },
   "outputs": [
    {
     "name": "stdout",
     "output_type": "stream",
     "text": [
      "Day0\n",
      "0    63598\n",
      "1    21656\n",
      "Name: is_weekend, dtype: int64\n",
      "Day1\n",
      "0    69440\n",
      "1    24701\n",
      "Name: is_weekend, dtype: int64\n",
      "Day2\n",
      "0    22682\n",
      "1     7224\n",
      "Name: is_weekend, dtype: int64\n",
      "Day3\n",
      "0    1141\n",
      "1     246\n",
      "Name: is_weekend, dtype: int64\n",
      "Day4\n",
      "0    77897\n",
      "1    27336\n",
      "Name: is_weekend, dtype: int64\n",
      "Day5\n",
      "0    1927\n",
      "1     614\n",
      "Name: is_weekend, dtype: int64\n",
      "Day6\n",
      "0    25396\n",
      "1    10189\n",
      "Name: is_weekend, dtype: int64\n",
      "Day7\n",
      "0    51846\n",
      "1    17792\n",
      "Name: is_weekend, dtype: int64\n"
     ]
    }
   ],
   "source": [
    "for i in range(8):\n",
    "    cond1 = train_data['direction']==i\n",
    "    cond2 = train_data['congestion']>47\n",
    "    print(f'Day{i}')\n",
    "    print(train_data.loc[(cond1&cond2),'is_weekend'].value_counts())"
   ]
  },
  {
   "cell_type": "code",
   "execution_count": 29,
   "metadata": {
    "execution": {
     "iopub.execute_input": "2022-03-31T07:38:41.168658Z",
     "iopub.status.busy": "2022-03-31T07:38:41.168386Z",
     "iopub.status.idle": "2022-03-31T07:38:41.183887Z",
     "shell.execute_reply": "2022-03-31T07:38:41.183036Z",
     "shell.execute_reply.started": "2022-03-31T07:38:41.168618Z"
    }
   },
   "outputs": [
    {
     "data": {
      "text/plain": [
       "Int64Index([  1541,   3036,   3166,   3434,   3499,   7911,   8106,   8691,\n",
       "             10909,  12526,\n",
       "            ...\n",
       "            843819, 843876, 843884, 843941, 843949, 844006, 844014, 844071,\n",
       "            844079, 844136],\n",
       "           dtype='int64', name='row_id', length=1609)"
      ]
     },
     "execution_count": 29,
     "metadata": {},
     "output_type": "execute_result"
    }
   ],
   "source": [
    "cri1 = train_data['congestion'] > 45\n",
    "cri2 = train_data['direction'] == 3\n",
    "cri3 = train_data['congestion'] < 10\n",
    "drop1 = train_data.loc[(cri1 & cri2)].index\n",
    "drop1"
   ]
  },
  {
   "cell_type": "code",
   "execution_count": 30,
   "metadata": {
    "execution": {
     "iopub.execute_input": "2022-03-31T07:38:41.186094Z",
     "iopub.status.busy": "2022-03-31T07:38:41.185259Z",
     "iopub.status.idle": "2022-03-31T07:38:41.196951Z",
     "shell.execute_reply": "2022-03-31T07:38:41.196147Z",
     "shell.execute_reply.started": "2022-03-31T07:38:41.186050Z"
    }
   },
   "outputs": [
    {
     "data": {
      "text/plain": [
       "Int64Index([  1801,   3946,   7456,   9991,  10056,  10121,  10186,  10251,\n",
       "             10316,  10381,\n",
       "            ...\n",
       "            818396, 825351, 825481, 826781, 839391, 840886, 840951, 841081,\n",
       "            845111, 847971],\n",
       "           dtype='int64', name='row_id', length=660)"
      ]
     },
     "execution_count": 30,
     "metadata": {},
     "output_type": "execute_result"
    }
   ],
   "source": [
    "drop2 = train_data.loc[(cri2 & cri3)].index\n",
    "drop2"
   ]
  },
  {
   "cell_type": "code",
   "execution_count": 31,
   "metadata": {
    "execution": {
     "iopub.execute_input": "2022-03-31T07:38:41.199456Z",
     "iopub.status.busy": "2022-03-31T07:38:41.198473Z",
     "iopub.status.idle": "2022-03-31T07:38:41.260868Z",
     "shell.execute_reply": "2022-03-31T07:38:41.260029Z",
     "shell.execute_reply.started": "2022-03-31T07:38:41.199407Z"
    }
   },
   "outputs": [],
   "source": [
    "train_data.drop(index = drop1, axis = 0 , inplace = True)"
   ]
  },
  {
   "cell_type": "code",
   "execution_count": 32,
   "metadata": {
    "execution": {
     "iopub.execute_input": "2022-03-31T07:38:41.262996Z",
     "iopub.status.busy": "2022-03-31T07:38:41.262116Z",
     "iopub.status.idle": "2022-03-31T07:38:41.365411Z",
     "shell.execute_reply": "2022-03-31T07:38:41.364628Z",
     "shell.execute_reply.started": "2022-03-31T07:38:41.262930Z"
    }
   },
   "outputs": [],
   "source": [
    "train_data.drop(index = drop2, axis = 0, inplace = True)"
   ]
  },
  {
   "cell_type": "code",
   "execution_count": 33,
   "metadata": {
    "execution": {
     "iopub.execute_input": "2022-03-31T07:38:41.367244Z",
     "iopub.status.busy": "2022-03-31T07:38:41.366870Z",
     "iopub.status.idle": "2022-03-31T07:38:41.384833Z",
     "shell.execute_reply": "2022-03-31T07:38:41.384040Z",
     "shell.execute_reply.started": "2022-03-31T07:38:41.367203Z"
    }
   },
   "outputs": [
    {
     "data": {
      "text/plain": [
       "Int64Index([    56,    121,    186,    251,    316,    381,    446,    511,\n",
       "               576,    641,\n",
       "            ...\n",
       "            848046, 848111, 848233, 848241, 848306, 848566, 848623, 848631,\n",
       "            848761, 848818],\n",
       "           dtype='int64', name='row_id', length=7899)"
      ]
     },
     "execution_count": 33,
     "metadata": {},
     "output_type": "execute_result"
    }
   ],
   "source": [
    "cri1 = train_data['congestion'] > 45\n",
    "cri2 = train_data['direction'] == 5\n",
    "cri3 = train_data['congestion'] < 25\n",
    "drop3 = train_data.loc[((cri1 & cri2) | (cri2 & cri3))].index\n",
    "drop3"
   ]
  },
  {
   "cell_type": "code",
   "execution_count": 34,
   "metadata": {
    "execution": {
     "iopub.execute_input": "2022-03-31T07:38:41.386523Z",
     "iopub.status.busy": "2022-03-31T07:38:41.386146Z",
     "iopub.status.idle": "2022-03-31T07:38:41.489553Z",
     "shell.execute_reply": "2022-03-31T07:38:41.488752Z",
     "shell.execute_reply.started": "2022-03-31T07:38:41.386479Z"
    }
   },
   "outputs": [],
   "source": [
    "train_data.drop(index = drop3, axis = 0, inplace = True)"
   ]
  },
  {
   "cell_type": "code",
   "execution_count": 35,
   "metadata": {
    "execution": {
     "iopub.execute_input": "2022-03-31T07:38:41.492373Z",
     "iopub.status.busy": "2022-03-31T07:38:41.491880Z",
     "iopub.status.idle": "2022-03-31T07:38:41.503027Z",
     "shell.execute_reply": "2022-03-31T07:38:41.502036Z",
     "shell.execute_reply.started": "2022-03-31T07:38:41.492329Z"
    }
   },
   "outputs": [],
   "source": [
    "cri4 = train_data['congestion'] > 87\n",
    "cri5 = train_data['direction'] == 0 \n",
    "cri6 = train_data['direction'] == 2\n",
    "cri7 = train_data['direction'] == 4\n",
    "cri8 = train_data['direction'] == 6\n",
    "cri9 = train_data['direction'] == 7\n",
    "cri10 = train_data['congestion'] < 10"
   ]
  },
  {
   "cell_type": "code",
   "execution_count": 36,
   "metadata": {
    "execution": {
     "iopub.execute_input": "2022-03-31T07:38:41.505796Z",
     "iopub.status.busy": "2022-03-31T07:38:41.504760Z",
     "iopub.status.idle": "2022-03-31T07:38:41.521743Z",
     "shell.execute_reply": "2022-03-31T07:38:41.521030Z",
     "shell.execute_reply.started": "2022-03-31T07:38:41.505751Z"
    }
   },
   "outputs": [
    {
     "data": {
      "text/plain": [
       "Int64Index([   136,    417,    441,    487,   3438,   3444,   3503,   3813,\n",
       "              3902,   4981,\n",
       "            ...\n",
       "            841586, 842132, 842150, 842197, 842634, 842748, 843554, 845693,\n",
       "            847313, 848569],\n",
       "           dtype='int64', name='row_id', length=2945)"
      ]
     },
     "execution_count": 36,
     "metadata": {},
     "output_type": "execute_result"
    }
   ],
   "source": [
    "drop4 = train_data.loc[((cri4 & cri5) | (cri4 & cri6) | (cri4 & cri7) | (cri4 & cri8) | (cri4 & cri9))].index\n",
    "drop4"
   ]
  },
  {
   "cell_type": "code",
   "execution_count": 37,
   "metadata": {
    "execution": {
     "iopub.execute_input": "2022-03-31T07:38:41.523658Z",
     "iopub.status.busy": "2022-03-31T07:38:41.523353Z",
     "iopub.status.idle": "2022-03-31T07:38:41.624586Z",
     "shell.execute_reply": "2022-03-31T07:38:41.623732Z",
     "shell.execute_reply.started": "2022-03-31T07:38:41.523616Z"
    }
   },
   "outputs": [],
   "source": [
    "train_data.drop(index = drop4, axis = 0, inplace = True)"
   ]
  },
  {
   "cell_type": "code",
   "execution_count": 38,
   "metadata": {
    "execution": {
     "iopub.execute_input": "2022-03-31T07:38:41.626212Z",
     "iopub.status.busy": "2022-03-31T07:38:41.625855Z",
     "iopub.status.idle": "2022-03-31T07:38:41.666698Z",
     "shell.execute_reply": "2022-03-31T07:38:41.665892Z",
     "shell.execute_reply.started": "2022-03-31T07:38:41.626172Z"
    }
   },
   "outputs": [
    {
     "data": {
      "text/plain": [
       "Int64Index([   277,    405,    470,    600,    663,    756,    783,    791,\n",
       "               830,   2533,\n",
       "            ...\n",
       "            846402, 846467, 846532, 846563, 846597, 846662, 846727, 846792,\n",
       "            847095, 847213],\n",
       "           dtype='int64', name='row_id', length=1932)"
      ]
     },
     "execution_count": 38,
     "metadata": {},
     "output_type": "execute_result"
    }
   ],
   "source": [
    "drop5 = train_data.loc[((cri10 & cri5) | (cri10 & cri6) | (cri10 & cri7) | (cri10 & cri8) | (cri10 & cri9))].index\n",
    "drop5"
   ]
  },
  {
   "cell_type": "code",
   "execution_count": 39,
   "metadata": {
    "execution": {
     "iopub.execute_input": "2022-03-31T07:38:41.668633Z",
     "iopub.status.busy": "2022-03-31T07:38:41.668153Z",
     "iopub.status.idle": "2022-03-31T07:38:41.767161Z",
     "shell.execute_reply": "2022-03-31T07:38:41.766322Z",
     "shell.execute_reply.started": "2022-03-31T07:38:41.668589Z"
    }
   },
   "outputs": [],
   "source": [
    "train_data.drop(index = drop5, axis = 0, inplace = True)"
   ]
  },
  {
   "cell_type": "code",
   "execution_count": 40,
   "metadata": {
    "execution": {
     "iopub.execute_input": "2022-03-31T07:38:41.770879Z",
     "iopub.status.busy": "2022-03-31T07:38:41.770616Z",
     "iopub.status.idle": "2022-03-31T07:38:42.468534Z",
     "shell.execute_reply": "2022-03-31T07:38:42.467817Z",
     "shell.execute_reply.started": "2022-03-31T07:38:41.770848Z"
    }
   },
   "outputs": [
    {
     "data": {
      "image/png": "[encoded data removed]",
      "text/plain": [
       "<Figure size 1400x1000 with 2 Axes>"
      ]
     },
     "metadata": {},
     "output_type": "display_data"
    }
   ],
   "source": [
    "box_plot('direction')"
   ]
  },
  {
   "cell_type": "code",
   "execution_count": 41,
   "metadata": {
    "execution": {
     "iopub.execute_input": "2022-03-31T07:38:42.470357Z",
     "iopub.status.busy": "2022-03-31T07:38:42.469864Z",
     "iopub.status.idle": "2022-03-31T07:38:42.987657Z",
     "shell.execute_reply": "2022-03-31T07:38:42.986836Z",
     "shell.execute_reply.started": "2022-03-31T07:38:42.470315Z"
    }
   },
   "outputs": [
    {
     "data": {
      "image/png": "[encoded data removed]",
      "text/plain": [
       "<Figure size 1400x1000 with 2 Axes>"
      ]
     },
     "metadata": {},
     "output_type": "display_data"
    }
   ],
   "source": [
    "box_plot('x')"
   ]
  },
  {
   "cell_type": "code",
   "execution_count": 42,
   "metadata": {
    "execution": {
     "iopub.execute_input": "2022-03-31T07:38:42.989579Z",
     "iopub.status.busy": "2022-03-31T07:38:42.988886Z",
     "iopub.status.idle": "2022-03-31T07:38:43.537261Z",
     "shell.execute_reply": "2022-03-31T07:38:43.536419Z",
     "shell.execute_reply.started": "2022-03-31T07:38:42.989533Z"
    }
   },
   "outputs": [
    {
     "data": {
      "image/png": "[encoded data removed]",
      "text/plain": [
       "<Figure size 1400x1000 with 2 Axes>"
      ]
     },
     "metadata": {},
     "output_type": "display_data"
    }
   ],
   "source": [
    "box_plot('y')"
   ]
  },
  {
   "cell_type": "code",
   "execution_count": 43,
   "metadata": {
    "execution": {
     "iopub.execute_input": "2022-03-31T07:38:43.539114Z",
     "iopub.status.busy": "2022-03-31T07:38:43.538720Z",
     "iopub.status.idle": "2022-03-31T07:39:07.979801Z",
     "shell.execute_reply": "2022-03-31T07:39:07.978964Z",
     "shell.execute_reply.started": "2022-03-31T07:38:43.539066Z"
    }
   },
   "outputs": [
    {
     "data": {
      "image/png": "[encoded data removed]",
      "text/plain": [
       "<Figure size 1400x1000 with 2 Axes>"
      ]
     },
     "metadata": {},
     "output_type": "display_data"
    }
   ],
   "source": [
    "fig, axes = plt.subplots(nrows=2, ncols=1, figsize = (14, 10))\n",
    "sns.boxplot(ax = axes[0], x = pd.cut(train_data['hour'], [0, 4, 8, 12, 16, 20, 24]) , y = 'congestion', data = train_data, \n",
    "            width = 1, palette = 'magma')\n",
    "axes[0].ticklabel_format(style = 'plain', axis = 'y')\n",
    "axes[0].set_title('hour vs congestion', fontsize = 16)\n",
    "\n",
    "sns.countplot(ax = axes[1], x = pd.cut(train_data['hour'], [0, 4, 8, 12, 16, 20, 24]) , \n",
    "              data = train_data, palette = 'magma')\n",
    "axes[1].set_title(('hour Count'), fontsize = 16)\n",
    "plt.subplots_adjust(hspace = 0.4)"
   ]
  },
  {
   "cell_type": "code",
   "execution_count": 44,
   "metadata": {
    "execution": {
     "iopub.execute_input": "2022-03-31T07:39:07.981646Z",
     "iopub.status.busy": "2022-03-31T07:39:07.981367Z",
     "iopub.status.idle": "2022-03-31T07:39:07.990357Z",
     "shell.execute_reply": "2022-03-31T07:39:07.989053Z",
     "shell.execute_reply.started": "2022-03-31T07:39:07.981607Z"
    }
   },
   "outputs": [],
   "source": [
    "criteria1 = train_data['hour'] >= 0\n",
    "criteria2 = train_data['hour'] <= 8\n",
    "criteria3 = train_data['congestion'] > 85"
   ]
  },
  {
   "cell_type": "code",
   "execution_count": 45,
   "metadata": {
    "execution": {
     "iopub.execute_input": "2022-03-31T07:39:07.993381Z",
     "iopub.status.busy": "2022-03-31T07:39:07.992693Z",
     "iopub.status.idle": "2022-03-31T07:39:08.005020Z",
     "shell.execute_reply": "2022-03-31T07:39:08.004179Z",
     "shell.execute_reply.started": "2022-03-31T07:39:07.993334Z"
    }
   },
   "outputs": [
    {
     "data": {
      "text/plain": [
       "Int64Index([   402,    609,   4783,   4826,   5005,   5070,   5135,   5200,\n",
       "              5265,   5278,\n",
       "            ...\n",
       "            833167, 833232, 833908, 834114, 837327, 837572, 842007, 843282,\n",
       "            847088, 847378],\n",
       "           dtype='int64', name='row_id', length=732)"
      ]
     },
     "execution_count": 45,
     "metadata": {},
     "output_type": "execute_result"
    }
   ],
   "source": [
    "a = train_data[criteria1 & criteria2 & criteria3].index\n",
    "a"
   ]
  },
  {
   "cell_type": "code",
   "execution_count": 46,
   "metadata": {
    "execution": {
     "iopub.execute_input": "2022-03-31T07:39:08.007363Z",
     "iopub.status.busy": "2022-03-31T07:39:08.006762Z",
     "iopub.status.idle": "2022-03-31T07:39:08.066028Z",
     "shell.execute_reply": "2022-03-31T07:39:08.065131Z",
     "shell.execute_reply.started": "2022-03-31T07:39:08.007318Z"
    }
   },
   "outputs": [],
   "source": [
    "train_data.drop(index = a, axis = 0 , inplace = True)"
   ]
  },
  {
   "cell_type": "code",
   "execution_count": 47,
   "metadata": {
    "execution": {
     "iopub.execute_input": "2022-03-31T07:39:08.068342Z",
     "iopub.status.busy": "2022-03-31T07:39:08.067717Z",
     "iopub.status.idle": "2022-03-31T07:39:08.087425Z",
     "shell.execute_reply": "2022-03-31T07:39:08.086319Z",
     "shell.execute_reply.started": "2022-03-31T07:39:08.068293Z"
    }
   },
   "outputs": [
    {
     "data": {
      "text/html": [
       "<div>\n",
       "<style scoped>\n",
       "    .dataframe tbody tr th:only-of-type {\n",
       "        vertical-align: middle;\n",
       "    }\n",
       "\n",
       "    .dataframe tbody tr th {\n",
       "        vertical-align: top;\n",
       "    }\n",
       "\n",
       "    .dataframe thead th {\n",
       "        text-align: right;\n",
       "    }\n",
       "</style>\n",
       "<table border=\"1\" class=\"dataframe\">\n",
       "  <thead>\n",
       "    <tr style=\"text-align: right;\">\n",
       "      <th></th>\n",
       "      <th>x</th>\n",
       "      <th>y</th>\n",
       "      <th>direction</th>\n",
       "      <th>congestion</th>\n",
       "      <th>year</th>\n",
       "      <th>month</th>\n",
       "      <th>day</th>\n",
       "      <th>hour</th>\n",
       "      <th>minute</th>\n",
       "      <th>weekday</th>\n",
       "      <th>is_weekend</th>\n",
       "    </tr>\n",
       "    <tr>\n",
       "      <th>row_id</th>\n",
       "      <th></th>\n",
       "      <th></th>\n",
       "      <th></th>\n",
       "      <th></th>\n",
       "      <th></th>\n",
       "      <th></th>\n",
       "      <th></th>\n",
       "      <th></th>\n",
       "      <th></th>\n",
       "      <th></th>\n",
       "      <th></th>\n",
       "    </tr>\n",
       "  </thead>\n",
       "  <tbody>\n",
       "    <tr>\n",
       "      <th>0</th>\n",
       "      <td>0</td>\n",
       "      <td>0</td>\n",
       "      <td>0</td>\n",
       "      <td>70</td>\n",
       "      <td>1991</td>\n",
       "      <td>4</td>\n",
       "      <td>1</td>\n",
       "      <td>0</td>\n",
       "      <td>0</td>\n",
       "      <td>0</td>\n",
       "      <td>0</td>\n",
       "    </tr>\n",
       "    <tr>\n",
       "      <th>1</th>\n",
       "      <td>0</td>\n",
       "      <td>0</td>\n",
       "      <td>1</td>\n",
       "      <td>49</td>\n",
       "      <td>1991</td>\n",
       "      <td>4</td>\n",
       "      <td>1</td>\n",
       "      <td>0</td>\n",
       "      <td>0</td>\n",
       "      <td>0</td>\n",
       "      <td>0</td>\n",
       "    </tr>\n",
       "    <tr>\n",
       "      <th>2</th>\n",
       "      <td>0</td>\n",
       "      <td>0</td>\n",
       "      <td>4</td>\n",
       "      <td>24</td>\n",
       "      <td>1991</td>\n",
       "      <td>4</td>\n",
       "      <td>1</td>\n",
       "      <td>0</td>\n",
       "      <td>0</td>\n",
       "      <td>0</td>\n",
       "      <td>0</td>\n",
       "    </tr>\n",
       "    <tr>\n",
       "      <th>3</th>\n",
       "      <td>0</td>\n",
       "      <td>1</td>\n",
       "      <td>0</td>\n",
       "      <td>18</td>\n",
       "      <td>1991</td>\n",
       "      <td>4</td>\n",
       "      <td>1</td>\n",
       "      <td>0</td>\n",
       "      <td>0</td>\n",
       "      <td>0</td>\n",
       "      <td>0</td>\n",
       "    </tr>\n",
       "    <tr>\n",
       "      <th>4</th>\n",
       "      <td>0</td>\n",
       "      <td>1</td>\n",
       "      <td>1</td>\n",
       "      <td>60</td>\n",
       "      <td>1991</td>\n",
       "      <td>4</td>\n",
       "      <td>1</td>\n",
       "      <td>0</td>\n",
       "      <td>0</td>\n",
       "      <td>0</td>\n",
       "      <td>0</td>\n",
       "    </tr>\n",
       "    <tr>\n",
       "      <th>...</th>\n",
       "      <td>...</td>\n",
       "      <td>...</td>\n",
       "      <td>...</td>\n",
       "      <td>...</td>\n",
       "      <td>...</td>\n",
       "      <td>...</td>\n",
       "      <td>...</td>\n",
       "      <td>...</td>\n",
       "      <td>...</td>\n",
       "      <td>...</td>\n",
       "      <td>...</td>\n",
       "    </tr>\n",
       "    <tr>\n",
       "      <th>138</th>\n",
       "      <td>0</td>\n",
       "      <td>2</td>\n",
       "      <td>1</td>\n",
       "      <td>41</td>\n",
       "      <td>1991</td>\n",
       "      <td>4</td>\n",
       "      <td>1</td>\n",
       "      <td>0</td>\n",
       "      <td>40</td>\n",
       "      <td>0</td>\n",
       "      <td>0</td>\n",
       "    </tr>\n",
       "    <tr>\n",
       "      <th>139</th>\n",
       "      <td>0</td>\n",
       "      <td>2</td>\n",
       "      <td>4</td>\n",
       "      <td>35</td>\n",
       "      <td>1991</td>\n",
       "      <td>4</td>\n",
       "      <td>1</td>\n",
       "      <td>0</td>\n",
       "      <td>40</td>\n",
       "      <td>0</td>\n",
       "      <td>0</td>\n",
       "    </tr>\n",
       "    <tr>\n",
       "      <th>140</th>\n",
       "      <td>0</td>\n",
       "      <td>2</td>\n",
       "      <td>7</td>\n",
       "      <td>35</td>\n",
       "      <td>1991</td>\n",
       "      <td>4</td>\n",
       "      <td>1</td>\n",
       "      <td>0</td>\n",
       "      <td>40</td>\n",
       "      <td>0</td>\n",
       "      <td>0</td>\n",
       "    </tr>\n",
       "    <tr>\n",
       "      <th>141</th>\n",
       "      <td>0</td>\n",
       "      <td>3</td>\n",
       "      <td>0</td>\n",
       "      <td>24</td>\n",
       "      <td>1991</td>\n",
       "      <td>4</td>\n",
       "      <td>1</td>\n",
       "      <td>0</td>\n",
       "      <td>40</td>\n",
       "      <td>0</td>\n",
       "      <td>0</td>\n",
       "    </tr>\n",
       "    <tr>\n",
       "      <th>142</th>\n",
       "      <td>0</td>\n",
       "      <td>3</td>\n",
       "      <td>1</td>\n",
       "      <td>36</td>\n",
       "      <td>1991</td>\n",
       "      <td>4</td>\n",
       "      <td>1</td>\n",
       "      <td>0</td>\n",
       "      <td>40</td>\n",
       "      <td>0</td>\n",
       "      <td>0</td>\n",
       "    </tr>\n",
       "  </tbody>\n",
       "</table>\n",
       "<p>140 rows × 11 columns</p>\n",
       "</div>"
      ],
      "text/plain": [
       "        x  y  direction  congestion  year  month  day  hour  minute  weekday  \\\n",
       "row_id                                                                         \n",
       "0       0  0          0          70  1991      4    1     0       0        0   \n",
       "1       0  0          1          49  1991      4    1     0       0        0   \n",
       "2       0  0          4          24  1991      4    1     0       0        0   \n",
       "3       0  1          0          18  1991      4    1     0       0        0   \n",
       "4       0  1          1          60  1991      4    1     0       0        0   \n",
       "...    .. ..        ...         ...   ...    ...  ...   ...     ...      ...   \n",
       "138     0  2          1          41  1991      4    1     0      40        0   \n",
       "139     0  2          4          35  1991      4    1     0      40        0   \n",
       "140     0  2          7          35  1991      4    1     0      40        0   \n",
       "141     0  3          0          24  1991      4    1     0      40        0   \n",
       "142     0  3          1          36  1991      4    1     0      40        0   \n",
       "\n",
       "        is_weekend  \n",
       "row_id              \n",
       "0                0  \n",
       "1                0  \n",
       "2                0  \n",
       "3                0  \n",
       "4                0  \n",
       "...            ...  \n",
       "138              0  \n",
       "139              0  \n",
       "140              0  \n",
       "141              0  \n",
       "142              0  \n",
       "\n",
       "[140 rows x 11 columns]"
      ]
     },
     "execution_count": 47,
     "metadata": {},
     "output_type": "execute_result"
    }
   ],
   "source": [
    "train_data.head(140)"
   ]
  },
  {
   "cell_type": "code",
   "execution_count": 48,
   "metadata": {
    "execution": {
     "iopub.execute_input": "2022-03-31T07:39:08.089994Z",
     "iopub.status.busy": "2022-03-31T07:39:08.089609Z",
     "iopub.status.idle": "2022-03-31T07:39:08.119229Z",
     "shell.execute_reply": "2022-03-31T07:39:08.118424Z",
     "shell.execute_reply.started": "2022-03-31T07:39:08.089923Z"
    }
   },
   "outputs": [],
   "source": [
    "X = train_data.drop('congestion', axis = 1)\n",
    "y = train_data['congestion']"
   ]
  },
  {
   "cell_type": "code",
   "execution_count": 49,
   "metadata": {
    "execution": {
     "iopub.execute_input": "2022-03-31T07:39:08.121364Z",
     "iopub.status.busy": "2022-03-31T07:39:08.120825Z",
     "iopub.status.idle": "2022-03-31T07:39:08.130006Z",
     "shell.execute_reply": "2022-03-31T07:39:08.129024Z",
     "shell.execute_reply.started": "2022-03-31T07:39:08.121323Z"
    }
   },
   "outputs": [],
   "source": [
    "def kfolds(m_name):\n",
    "    kf = KFold(n_splits = 5, shuffle = True, random_state = 70)\n",
    "\n",
    "    for fold, (tr_idx, va_idx) in enumerate(kf.split(X)):\n",
    "        print(f'--------fold:{fold+1}--------')\n",
    "        fold+=1\n",
    "        tr_x, va_x = X.iloc[tr_idx], X.iloc[va_idx]\n",
    "        tr_y, va_y = y.iloc[tr_idx], y.iloc[va_idx]\n",
    "\n",
    "        params = {\n",
    "            'loss_function' : 'MAPE',\n",
    "            'task_type' : 'GPU', \n",
    "            'grow_policy' : 'SymmetricTree',\n",
    "            'learning_rate': 0.1,\n",
    "            'l2_leaf_reg' : 0.2,\n",
    "            'random_state': 0\n",
    "         }\n",
    "\n",
    "        m_name.fit(tr_x,\n",
    "                  tr_y)\n",
    "\n",
    "        val_pred = m_name.predict(va_x)\n",
    "\n",
    "        print(f' MAE: {mean_absolute_error(va_y, val_pred)}')"
   ]
  },
  {
   "cell_type": "code",
   "execution_count": 50,
   "metadata": {
    "execution": {
     "iopub.execute_input": "2022-03-31T07:39:08.132425Z",
     "iopub.status.busy": "2022-03-31T07:39:08.131700Z",
     "iopub.status.idle": "2022-03-31T07:39:08.142930Z",
     "shell.execute_reply": "2022-03-31T07:39:08.141938Z",
     "shell.execute_reply.started": "2022-03-31T07:39:08.132378Z"
    }
   },
   "outputs": [],
   "source": [
    "from sklearn.model_selection import train_test_split"
   ]
  },
  {
   "cell_type": "code",
   "execution_count": 51,
   "metadata": {
    "execution": {
     "iopub.execute_input": "2022-03-31T07:39:08.144578Z",
     "iopub.status.busy": "2022-03-31T07:39:08.144326Z",
     "iopub.status.idle": "2022-03-31T07:39:08.323263Z",
     "shell.execute_reply": "2022-03-31T07:39:08.322358Z",
     "shell.execute_reply.started": "2022-03-31T07:39:08.144537Z"
    }
   },
   "outputs": [],
   "source": [
    "X_train , X_val, y_train, y_val = train_test_split(X, y, test_size = 0.2)"
   ]
  },
  {
   "cell_type": "code",
   "execution_count": 52,
   "metadata": {
    "execution": {
     "iopub.execute_input": "2022-03-31T07:39:08.330749Z",
     "iopub.status.busy": "2022-03-31T07:39:08.330466Z",
     "iopub.status.idle": "2022-03-31T07:39:08.404328Z",
     "shell.execute_reply": "2022-03-31T07:39:08.403437Z",
     "shell.execute_reply.started": "2022-03-31T07:39:08.330716Z"
    }
   },
   "outputs": [],
   "source": [
    "from sklearn.linear_model import LinearRegression, Lasso, Ridge"
   ]
  },
  {
   "cell_type": "code",
   "execution_count": 53,
   "metadata": {
    "execution": {
     "iopub.execute_input": "2022-03-31T07:39:08.406108Z",
     "iopub.status.busy": "2022-03-31T07:39:08.405762Z",
     "iopub.status.idle": "2022-03-31T07:39:08.636661Z",
     "shell.execute_reply": "2022-03-31T07:39:08.635633Z",
     "shell.execute_reply.started": "2022-03-31T07:39:08.406064Z"
    }
   },
   "outputs": [
    {
     "data": {
      "text/html": [
       "<style>#sk-container-id-1 {color: black;background-color: white;}#sk-container-id-1 pre{padding: 0;}#sk-container-id-1 div.sk-toggleable {background-color: white;}#sk-container-id-1 label.sk-toggleable__label {cursor: pointer;display: block;width: 100%;margin-bottom: 0;padding: 0.3em;box-sizing: border-box;text-align: center;}#sk-container-id-1 label.sk-toggleable__label-arrow:before {content: \"▸\";float: left;margin-right: 0.25em;color: #696969;}#sk-container-id-1 label.sk-toggleable__label-arrow:hover:before {color: black;}#sk-container-id-1 div.sk-estimator:hover label.sk-toggleable__label-arrow:before {color: black;}#sk-container-id-1 div.sk-toggleable__content {max-height: 0;max-width: 0;overflow: hidden;text-align: left;background-color: #f0f8ff;}#sk-container-id-1 div.sk-toggleable__content pre {margin: 0.2em;color: black;border-radius: 0.25em;background-color: #f0f8ff;}#sk-container-id-1 input.sk-toggleable__control:checked~div.sk-toggleable__content {max-height: 200px;max-width: 100%;overflow: auto;}#sk-container-id-1 input.sk-toggleable__control:checked~label.sk-toggleable__label-arrow:before {content: \"▾\";}#sk-container-id-1 div.sk-estimator input.sk-toggleable__control:checked~label.sk-toggleable__label {background-color: #d4ebff;}#sk-container-id-1 div.sk-label input.sk-toggleable__control:checked~label.sk-toggleable__label {background-color: #d4ebff;}#sk-container-id-1 input.sk-hidden--visually {border: 0;clip: rect(1px 1px 1px 1px);clip: rect(1px, 1px, 1px, 1px);height: 1px;margin: -1px;overflow: hidden;padding: 0;position: absolute;width: 1px;}#sk-container-id-1 div.sk-estimator {font-family: monospace;background-color: #f0f8ff;border: 1px dotted black;border-radius: 0.25em;box-sizing: border-box;margin-bottom: 0.5em;}#sk-container-id-1 div.sk-estimator:hover {background-color: #d4ebff;}#sk-container-id-1 div.sk-parallel-item::after {content: \"\";width: 100%;border-bottom: 1px solid gray;flex-grow: 1;}#sk-container-id-1 div.sk-label:hover label.sk-toggleable__label {background-color: #d4ebff;}#sk-container-id-1 div.sk-serial::before {content: \"\";position: absolute;border-left: 1px solid gray;box-sizing: border-box;top: 0;bottom: 0;left: 50%;z-index: 0;}#sk-container-id-1 div.sk-serial {display: flex;flex-direction: column;align-items: center;background-color: white;padding-right: 0.2em;padding-left: 0.2em;position: relative;}#sk-container-id-1 div.sk-item {position: relative;z-index: 1;}#sk-container-id-1 div.sk-parallel {display: flex;align-items: stretch;justify-content: center;background-color: white;position: relative;}#sk-container-id-1 div.sk-item::before, #sk-container-id-1 div.sk-parallel-item::before {content: \"\";position: absolute;border-left: 1px solid gray;box-sizing: border-box;top: 0;bottom: 0;left: 50%;z-index: -1;}#sk-container-id-1 div.sk-parallel-item {display: flex;flex-direction: column;z-index: 1;position: relative;background-color: white;}#sk-container-id-1 div.sk-parallel-item:first-child::after {align-self: flex-end;width: 50%;}#sk-container-id-1 div.sk-parallel-item:last-child::after {align-self: flex-start;width: 50%;}#sk-container-id-1 div.sk-parallel-item:only-child::after {width: 0;}#sk-container-id-1 div.sk-dashed-wrapped {border: 1px dashed gray;margin: 0 0.4em 0.5em 0.4em;box-sizing: border-box;padding-bottom: 0.4em;background-color: white;}#sk-container-id-1 div.sk-label label {font-family: monospace;font-weight: bold;display: inline-block;line-height: 1.2em;}#sk-container-id-1 div.sk-label-container {text-align: center;}#sk-container-id-1 div.sk-container {/* jupyter's `normalize.less` sets `[hidden] { display: none; }` but bootstrap.min.css set `[hidden] { display: none !important; }` so we also need the `!important` here to be able to override the default hidden behavior on the sphinx rendered scikit-learn.org. See: https://github.com/scikit-learn/scikit-learn/issues/21755 */display: inline-block !important;position: relative;}#sk-container-id-1 div.sk-text-repr-fallback {display: none;}</style><div id=\"sk-container-id-1\" class=\"sk-top-container\"><div class=\"sk-text-repr-fallback\"><pre>LinearRegression()</pre><b>In a Jupyter environment, please rerun this cell to show the HTML representation or trust the notebook. <br />On GitHub, the HTML representation is unable to render, please try loading this page with nbviewer.org.</b></div><div class=\"sk-container\" hidden><div class=\"sk-item\"><div class=\"sk-estimator sk-toggleable\"><input class=\"sk-toggleable__control sk-hidden--visually\" id=\"sk-estimator-id-1\" type=\"checkbox\" checked><label for=\"sk-estimator-id-1\" class=\"sk-toggleable__label sk-toggleable__label-arrow\">LinearRegression</label><div class=\"sk-toggleable__content\"><pre>LinearRegression()</pre></div></div></div></div></div>"
      ],
      "text/plain": [
       "LinearRegression()"
      ]
     },
     "execution_count": 53,
     "metadata": {},
     "output_type": "execute_result"
    }
   ],
   "source": [
    "model1 = LinearRegression()\n",
    "model1.fit(X_train, y_train)"
   ]
  },
  {
   "cell_type": "code",
   "execution_count": 54,
   "metadata": {
    "execution": {
     "iopub.execute_input": "2022-03-31T07:39:08.646324Z",
     "iopub.status.busy": "2022-03-31T07:39:08.642896Z",
     "iopub.status.idle": "2022-03-31T07:39:08.745251Z",
     "shell.execute_reply": "2022-03-31T07:39:08.744286Z",
     "shell.execute_reply.started": "2022-03-31T07:39:08.646230Z"
    }
   },
   "outputs": [
    {
     "data": {
      "text/plain": [
       "0.04255099005996443"
      ]
     },
     "execution_count": 54,
     "metadata": {},
     "output_type": "execute_result"
    }
   ],
   "source": [
    "model1.score(X_train, y_train)"
   ]
  },
  {
   "cell_type": "code",
   "execution_count": 55,
   "metadata": {
    "execution": {
     "iopub.execute_input": "2022-03-31T07:39:08.753631Z",
     "iopub.status.busy": "2022-03-31T07:39:08.750926Z",
     "iopub.status.idle": "2022-03-31T07:39:08.792744Z",
     "shell.execute_reply": "2022-03-31T07:39:08.791770Z",
     "shell.execute_reply.started": "2022-03-31T07:39:08.753563Z"
    }
   },
   "outputs": [
    {
     "data": {
      "text/plain": [
       "0.04250765324614636"
      ]
     },
     "execution_count": 55,
     "metadata": {},
     "output_type": "execute_result"
    }
   ],
   "source": [
    "model1.score(X_val, y_val)"
   ]
  },
  {
   "cell_type": "code",
   "execution_count": 56,
   "metadata": {
    "execution": {
     "iopub.execute_input": "2022-03-31T07:39:08.801111Z",
     "iopub.status.busy": "2022-03-31T07:39:08.798396Z",
     "iopub.status.idle": "2022-03-31T07:39:08.995790Z",
     "shell.execute_reply": "2022-03-31T07:39:08.994768Z",
     "shell.execute_reply.started": "2022-03-31T07:39:08.801042Z"
    }
   },
   "outputs": [
    {
     "data": {
      "text/html": [
       "<style>#sk-container-id-2 {color: black;background-color: white;}#sk-container-id-2 pre{padding: 0;}#sk-container-id-2 div.sk-toggleable {background-color: white;}#sk-container-id-2 label.sk-toggleable__label {cursor: pointer;display: block;width: 100%;margin-bottom: 0;padding: 0.3em;box-sizing: border-box;text-align: center;}#sk-container-id-2 label.sk-toggleable__label-arrow:before {content: \"▸\";float: left;margin-right: 0.25em;color: #696969;}#sk-container-id-2 label.sk-toggleable__label-arrow:hover:before {color: black;}#sk-container-id-2 div.sk-estimator:hover label.sk-toggleable__label-arrow:before {color: black;}#sk-container-id-2 div.sk-toggleable__content {max-height: 0;max-width: 0;overflow: hidden;text-align: left;background-color: #f0f8ff;}#sk-container-id-2 div.sk-toggleable__content pre {margin: 0.2em;color: black;border-radius: 0.25em;background-color: #f0f8ff;}#sk-container-id-2 input.sk-toggleable__control:checked~div.sk-toggleable__content {max-height: 200px;max-width: 100%;overflow: auto;}#sk-container-id-2 input.sk-toggleable__control:checked~label.sk-toggleable__label-arrow:before {content: \"▾\";}#sk-container-id-2 div.sk-estimator input.sk-toggleable__control:checked~label.sk-toggleable__label {background-color: #d4ebff;}#sk-container-id-2 div.sk-label input.sk-toggleable__control:checked~label.sk-toggleable__label {background-color: #d4ebff;}#sk-container-id-2 input.sk-hidden--visually {border: 0;clip: rect(1px 1px 1px 1px);clip: rect(1px, 1px, 1px, 1px);height: 1px;margin: -1px;overflow: hidden;padding: 0;position: absolute;width: 1px;}#sk-container-id-2 div.sk-estimator {font-family: monospace;background-color: #f0f8ff;border: 1px dotted black;border-radius: 0.25em;box-sizing: border-box;margin-bottom: 0.5em;}#sk-container-id-2 div.sk-estimator:hover {background-color: #d4ebff;}#sk-container-id-2 div.sk-parallel-item::after {content: \"\";width: 100%;border-bottom: 1px solid gray;flex-grow: 1;}#sk-container-id-2 div.sk-label:hover label.sk-toggleable__label {background-color: #d4ebff;}#sk-container-id-2 div.sk-serial::before {content: \"\";position: absolute;border-left: 1px solid gray;box-sizing: border-box;top: 0;bottom: 0;left: 50%;z-index: 0;}#sk-container-id-2 div.sk-serial {display: flex;flex-direction: column;align-items: center;background-color: white;padding-right: 0.2em;padding-left: 0.2em;position: relative;}#sk-container-id-2 div.sk-item {position: relative;z-index: 1;}#sk-container-id-2 div.sk-parallel {display: flex;align-items: stretch;justify-content: center;background-color: white;position: relative;}#sk-container-id-2 div.sk-item::before, #sk-container-id-2 div.sk-parallel-item::before {content: \"\";position: absolute;border-left: 1px solid gray;box-sizing: border-box;top: 0;bottom: 0;left: 50%;z-index: -1;}#sk-container-id-2 div.sk-parallel-item {display: flex;flex-direction: column;z-index: 1;position: relative;background-color: white;}#sk-container-id-2 div.sk-parallel-item:first-child::after {align-self: flex-end;width: 50%;}#sk-container-id-2 div.sk-parallel-item:last-child::after {align-self: flex-start;width: 50%;}#sk-container-id-2 div.sk-parallel-item:only-child::after {width: 0;}#sk-container-id-2 div.sk-dashed-wrapped {border: 1px dashed gray;margin: 0 0.4em 0.5em 0.4em;box-sizing: border-box;padding-bottom: 0.4em;background-color: white;}#sk-container-id-2 div.sk-label label {font-family: monospace;font-weight: bold;display: inline-block;line-height: 1.2em;}#sk-container-id-2 div.sk-label-container {text-align: center;}#sk-container-id-2 div.sk-container {/* jupyter's `normalize.less` sets `[hidden] { display: none; }` but bootstrap.min.css set `[hidden] { display: none !important; }` so we also need the `!important` here to be able to override the default hidden behavior on the sphinx rendered scikit-learn.org. See: https://github.com/scikit-learn/scikit-learn/issues/21755 */display: inline-block !important;position: relative;}#sk-container-id-2 div.sk-text-repr-fallback {display: none;}</style><div id=\"sk-container-id-2\" class=\"sk-top-container\"><div class=\"sk-text-repr-fallback\"><pre>Lasso(alpha=1)</pre><b>In a Jupyter environment, please rerun this cell to show the HTML representation or trust the notebook. <br />On GitHub, the HTML representation is unable to render, please try loading this page with nbviewer.org.</b></div><div class=\"sk-container\" hidden><div class=\"sk-item\"><div class=\"sk-estimator sk-toggleable\"><input class=\"sk-toggleable__control sk-hidden--visually\" id=\"sk-estimator-id-2\" type=\"checkbox\" checked><label for=\"sk-estimator-id-2\" class=\"sk-toggleable__label sk-toggleable__label-arrow\">Lasso</label><div class=\"sk-toggleable__content\"><pre>Lasso(alpha=1)</pre></div></div></div></div></div>"
      ],
      "text/plain": [
       "Lasso(alpha=1)"
      ]
     },
     "execution_count": 56,
     "metadata": {},
     "output_type": "execute_result"
    }
   ],
   "source": [
    "model2 = Lasso(1)\n",
    "model2.fit(X_train, y_train)"
   ]
  },
  {
   "cell_type": "code",
   "execution_count": 57,
   "metadata": {
    "execution": {
     "iopub.execute_input": "2022-03-31T07:39:08.997933Z",
     "iopub.status.busy": "2022-03-31T07:39:08.997359Z",
     "iopub.status.idle": "2022-03-31T07:39:09.108176Z",
     "shell.execute_reply": "2022-03-31T07:39:09.107313Z",
     "shell.execute_reply.started": "2022-03-31T07:39:08.997889Z"
    }
   },
   "outputs": [
    {
     "data": {
      "text/plain": [
       "(0.0319437318728677, 0.031719584267283274)"
      ]
     },
     "execution_count": 57,
     "metadata": {},
     "output_type": "execute_result"
    }
   ],
   "source": [
    "model2.score(X_train, y_train), model2.score(X_val, y_val)"
   ]
  },
  {
   "cell_type": "code",
   "execution_count": 58,
   "metadata": {
    "execution": {
     "iopub.execute_input": "2022-03-31T07:39:09.115935Z",
     "iopub.status.busy": "2022-03-31T07:39:09.113326Z",
     "iopub.status.idle": "2022-03-31T07:39:09.211600Z",
     "shell.execute_reply": "2022-03-31T07:39:09.210658Z",
     "shell.execute_reply.started": "2022-03-31T07:39:09.115875Z"
    }
   },
   "outputs": [],
   "source": [
    "from sklearn.tree import DecisionTreeRegressor"
   ]
  },
  {
   "cell_type": "code",
   "execution_count": 59,
   "metadata": {
    "execution": {
     "iopub.execute_input": "2022-03-31T07:39:09.221160Z",
     "iopub.status.busy": "2022-03-31T07:39:09.218190Z",
     "iopub.status.idle": "2022-03-31T07:39:10.877494Z",
     "shell.execute_reply": "2022-03-31T07:39:10.876687Z",
     "shell.execute_reply.started": "2022-03-31T07:39:09.221095Z"
    }
   },
   "outputs": [
    {
     "data": {
      "text/html": [
       "<style>#sk-container-id-3 {color: black;background-color: white;}#sk-container-id-3 pre{padding: 0;}#sk-container-id-3 div.sk-toggleable {background-color: white;}#sk-container-id-3 label.sk-toggleable__label {cursor: pointer;display: block;width: 100%;margin-bottom: 0;padding: 0.3em;box-sizing: border-box;text-align: center;}#sk-container-id-3 label.sk-toggleable__label-arrow:before {content: \"▸\";float: left;margin-right: 0.25em;color: #696969;}#sk-container-id-3 label.sk-toggleable__label-arrow:hover:before {color: black;}#sk-container-id-3 div.sk-estimator:hover label.sk-toggleable__label-arrow:before {color: black;}#sk-container-id-3 div.sk-toggleable__content {max-height: 0;max-width: 0;overflow: hidden;text-align: left;background-color: #f0f8ff;}#sk-container-id-3 div.sk-toggleable__content pre {margin: 0.2em;color: black;border-radius: 0.25em;background-color: #f0f8ff;}#sk-container-id-3 input.sk-toggleable__control:checked~div.sk-toggleable__content {max-height: 200px;max-width: 100%;overflow: auto;}#sk-container-id-3 input.sk-toggleable__control:checked~label.sk-toggleable__label-arrow:before {content: \"▾\";}#sk-container-id-3 div.sk-estimator input.sk-toggleable__control:checked~label.sk-toggleable__label {background-color: #d4ebff;}#sk-container-id-3 div.sk-label input.sk-toggleable__control:checked~label.sk-toggleable__label {background-color: #d4ebff;}#sk-container-id-3 input.sk-hidden--visually {border: 0;clip: rect(1px 1px 1px 1px);clip: rect(1px, 1px, 1px, 1px);height: 1px;margin: -1px;overflow: hidden;padding: 0;position: absolute;width: 1px;}#sk-container-id-3 div.sk-estimator {font-family: monospace;background-color: #f0f8ff;border: 1px dotted black;border-radius: 0.25em;box-sizing: border-box;margin-bottom: 0.5em;}#sk-container-id-3 div.sk-estimator:hover {background-color: #d4ebff;}#sk-container-id-3 div.sk-parallel-item::after {content: \"\";width: 100%;border-bottom: 1px solid gray;flex-grow: 1;}#sk-container-id-3 div.sk-label:hover label.sk-toggleable__label {background-color: #d4ebff;}#sk-container-id-3 div.sk-serial::before {content: \"\";position: absolute;border-left: 1px solid gray;box-sizing: border-box;top: 0;bottom: 0;left: 50%;z-index: 0;}#sk-container-id-3 div.sk-serial {display: flex;flex-direction: column;align-items: center;background-color: white;padding-right: 0.2em;padding-left: 0.2em;position: relative;}#sk-container-id-3 div.sk-item {position: relative;z-index: 1;}#sk-container-id-3 div.sk-parallel {display: flex;align-items: stretch;justify-content: center;background-color: white;position: relative;}#sk-container-id-3 div.sk-item::before, #sk-container-id-3 div.sk-parallel-item::before {content: \"\";position: absolute;border-left: 1px solid gray;box-sizing: border-box;top: 0;bottom: 0;left: 50%;z-index: -1;}#sk-container-id-3 div.sk-parallel-item {display: flex;flex-direction: column;z-index: 1;position: relative;background-color: white;}#sk-container-id-3 div.sk-parallel-item:first-child::after {align-self: flex-end;width: 50%;}#sk-container-id-3 div.sk-parallel-item:last-child::after {align-self: flex-start;width: 50%;}#sk-container-id-3 div.sk-parallel-item:only-child::after {width: 0;}#sk-container-id-3 div.sk-dashed-wrapped {border: 1px dashed gray;margin: 0 0.4em 0.5em 0.4em;box-sizing: border-box;padding-bottom: 0.4em;background-color: white;}#sk-container-id-3 div.sk-label label {font-family: monospace;font-weight: bold;display: inline-block;line-height: 1.2em;}#sk-container-id-3 div.sk-label-container {text-align: center;}#sk-container-id-3 div.sk-container {/* jupyter's `normalize.less` sets `[hidden] { display: none; }` but bootstrap.min.css set `[hidden] { display: none !important; }` so we also need the `!important` here to be able to override the default hidden behavior on the sphinx rendered scikit-learn.org. See: https://github.com/scikit-learn/scikit-learn/issues/21755 */display: inline-block !important;position: relative;}#sk-container-id-3 div.sk-text-repr-fallback {display: none;}</style><div id=\"sk-container-id-3\" class=\"sk-top-container\"><div class=\"sk-text-repr-fallback\"><pre>DecisionTreeRegressor(max_depth=10)</pre><b>In a Jupyter environment, please rerun this cell to show the HTML representation or trust the notebook. <br />On GitHub, the HTML representation is unable to render, please try loading this page with nbviewer.org.</b></div><div class=\"sk-container\" hidden><div class=\"sk-item\"><div class=\"sk-estimator sk-toggleable\"><input class=\"sk-toggleable__control sk-hidden--visually\" id=\"sk-estimator-id-3\" type=\"checkbox\" checked><label for=\"sk-estimator-id-3\" class=\"sk-toggleable__label sk-toggleable__label-arrow\">DecisionTreeRegressor</label><div class=\"sk-toggleable__content\"><pre>DecisionTreeRegressor(max_depth=10)</pre></div></div></div></div></div>"
      ],
      "text/plain": [
       "DecisionTreeRegressor(max_depth=10)"
      ]
     },
     "execution_count": 59,
     "metadata": {},
     "output_type": "execute_result"
    }
   ],
   "source": [
    "model3 = DecisionTreeRegressor(max_depth = 10)\n",
    "model3.fit(X_train, y_train)"
   ]
  },
  {
   "cell_type": "code",
   "execution_count": 60,
   "metadata": {
    "execution": {
     "iopub.execute_input": "2022-03-31T07:39:10.879080Z",
     "iopub.status.busy": "2022-03-31T07:39:10.878794Z",
     "iopub.status.idle": "2022-03-31T07:39:11.037268Z",
     "shell.execute_reply": "2022-03-31T07:39:11.036345Z",
     "shell.execute_reply.started": "2022-03-31T07:39:10.879039Z"
    }
   },
   "outputs": [
    {
     "data": {
      "text/plain": [
       "(0.7085620728553865, 0.7053815602972707)"
      ]
     },
     "execution_count": 60,
     "metadata": {},
     "output_type": "execute_result"
    }
   ],
   "source": [
    "model3.score(X_train, y_train), model3.score(X_val, y_val)"
   ]
  },
  {
   "cell_type": "code",
   "execution_count": 61,
   "metadata": {
    "execution": {
     "iopub.execute_input": "2022-03-31T07:39:11.039139Z",
     "iopub.status.busy": "2022-03-31T07:39:11.038756Z",
     "iopub.status.idle": "2022-03-31T07:39:11.102523Z",
     "shell.execute_reply": "2022-03-31T07:39:11.101635Z",
     "shell.execute_reply.started": "2022-03-31T07:39:11.039096Z"
    }
   },
   "outputs": [],
   "source": [
    "from sklearn.ensemble import RandomForestRegressor"
   ]
  },
  {
   "cell_type": "code",
   "execution_count": 62,
   "metadata": {
    "execution": {
     "iopub.execute_input": "2022-03-31T07:39:11.105493Z",
     "iopub.status.busy": "2022-03-31T07:39:11.103749Z",
     "iopub.status.idle": "2022-03-31T07:41:27.678688Z",
     "shell.execute_reply": "2022-03-31T07:41:27.677868Z",
     "shell.execute_reply.started": "2022-03-31T07:39:11.105443Z"
    }
   },
   "outputs": [
    {
     "data": {
      "text/html": [
       "<style>#sk-container-id-4 {color: black;background-color: white;}#sk-container-id-4 pre{padding: 0;}#sk-container-id-4 div.sk-toggleable {background-color: white;}#sk-container-id-4 label.sk-toggleable__label {cursor: pointer;display: block;width: 100%;margin-bottom: 0;padding: 0.3em;box-sizing: border-box;text-align: center;}#sk-container-id-4 label.sk-toggleable__label-arrow:before {content: \"▸\";float: left;margin-right: 0.25em;color: #696969;}#sk-container-id-4 label.sk-toggleable__label-arrow:hover:before {color: black;}#sk-container-id-4 div.sk-estimator:hover label.sk-toggleable__label-arrow:before {color: black;}#sk-container-id-4 div.sk-toggleable__content {max-height: 0;max-width: 0;overflow: hidden;text-align: left;background-color: #f0f8ff;}#sk-container-id-4 div.sk-toggleable__content pre {margin: 0.2em;color: black;border-radius: 0.25em;background-color: #f0f8ff;}#sk-container-id-4 input.sk-toggleable__control:checked~div.sk-toggleable__content {max-height: 200px;max-width: 100%;overflow: auto;}#sk-container-id-4 input.sk-toggleable__control:checked~label.sk-toggleable__label-arrow:before {content: \"▾\";}#sk-container-id-4 div.sk-estimator input.sk-toggleable__control:checked~label.sk-toggleable__label {background-color: #d4ebff;}#sk-container-id-4 div.sk-label input.sk-toggleable__control:checked~label.sk-toggleable__label {background-color: #d4ebff;}#sk-container-id-4 input.sk-hidden--visually {border: 0;clip: rect(1px 1px 1px 1px);clip: rect(1px, 1px, 1px, 1px);height: 1px;margin: -1px;overflow: hidden;padding: 0;position: absolute;width: 1px;}#sk-container-id-4 div.sk-estimator {font-family: monospace;background-color: #f0f8ff;border: 1px dotted black;border-radius: 0.25em;box-sizing: border-box;margin-bottom: 0.5em;}#sk-container-id-4 div.sk-estimator:hover {background-color: #d4ebff;}#sk-container-id-4 div.sk-parallel-item::after {content: \"\";width: 100%;border-bottom: 1px solid gray;flex-grow: 1;}#sk-container-id-4 div.sk-label:hover label.sk-toggleable__label {background-color: #d4ebff;}#sk-container-id-4 div.sk-serial::before {content: \"\";position: absolute;border-left: 1px solid gray;box-sizing: border-box;top: 0;bottom: 0;left: 50%;z-index: 0;}#sk-container-id-4 div.sk-serial {display: flex;flex-direction: column;align-items: center;background-color: white;padding-right: 0.2em;padding-left: 0.2em;position: relative;}#sk-container-id-4 div.sk-item {position: relative;z-index: 1;}#sk-container-id-4 div.sk-parallel {display: flex;align-items: stretch;justify-content: center;background-color: white;position: relative;}#sk-container-id-4 div.sk-item::before, #sk-container-id-4 div.sk-parallel-item::before {content: \"\";position: absolute;border-left: 1px solid gray;box-sizing: border-box;top: 0;bottom: 0;left: 50%;z-index: -1;}#sk-container-id-4 div.sk-parallel-item {display: flex;flex-direction: column;z-index: 1;position: relative;background-color: white;}#sk-container-id-4 div.sk-parallel-item:first-child::after {align-self: flex-end;width: 50%;}#sk-container-id-4 div.sk-parallel-item:last-child::after {align-self: flex-start;width: 50%;}#sk-container-id-4 div.sk-parallel-item:only-child::after {width: 0;}#sk-container-id-4 div.sk-dashed-wrapped {border: 1px dashed gray;margin: 0 0.4em 0.5em 0.4em;box-sizing: border-box;padding-bottom: 0.4em;background-color: white;}#sk-container-id-4 div.sk-label label {font-family: monospace;font-weight: bold;display: inline-block;line-height: 1.2em;}#sk-container-id-4 div.sk-label-container {text-align: center;}#sk-container-id-4 div.sk-container {/* jupyter's `normalize.less` sets `[hidden] { display: none; }` but bootstrap.min.css set `[hidden] { display: none !important; }` so we also need the `!important` here to be able to override the default hidden behavior on the sphinx rendered scikit-learn.org. See: https://github.com/scikit-learn/scikit-learn/issues/21755 */display: inline-block !important;position: relative;}#sk-container-id-4 div.sk-text-repr-fallback {display: none;}</style><div id=\"sk-container-id-4\" class=\"sk-top-container\"><div class=\"sk-text-repr-fallback\"><pre>RandomForestRegressor(max_depth=13)</pre><b>In a Jupyter environment, please rerun this cell to show the HTML representation or trust the notebook. <br />On GitHub, the HTML representation is unable to render, please try loading this page with nbviewer.org.</b></div><div class=\"sk-container\" hidden><div class=\"sk-item\"><div class=\"sk-estimator sk-toggleable\"><input class=\"sk-toggleable__control sk-hidden--visually\" id=\"sk-estimator-id-4\" type=\"checkbox\" checked><label for=\"sk-estimator-id-4\" class=\"sk-toggleable__label sk-toggleable__label-arrow\">RandomForestRegressor</label><div class=\"sk-toggleable__content\"><pre>RandomForestRegressor(max_depth=13)</pre></div></div></div></div></div>"
      ],
      "text/plain": [
       "RandomForestRegressor(max_depth=13)"
      ]
     },
     "execution_count": 62,
     "metadata": {},
     "output_type": "execute_result"
    }
   ],
   "source": [
    "model4 = RandomForestRegressor(max_depth = 13)\n",
    "model4.fit(X_train, y_train)"
   ]
  },
  {
   "cell_type": "code",
   "execution_count": 63,
   "metadata": {
    "execution": {
     "iopub.execute_input": "2022-03-31T07:41:27.680528Z",
     "iopub.status.busy": "2022-03-31T07:41:27.680247Z",
     "iopub.status.idle": "2022-03-31T07:41:42.024638Z",
     "shell.execute_reply": "2022-03-31T07:41:42.023881Z",
     "shell.execute_reply.started": "2022-03-31T07:41:27.680487Z"
    }
   },
   "outputs": [
    {
     "data": {
      "text/plain": [
       "(0.7642773596286982, 0.7463717640815837)"
      ]
     },
     "execution_count": 63,
     "metadata": {},
     "output_type": "execute_result"
    }
   ],
   "source": [
    "model4.score(X_train, y_train), model4.score(X_val, y_val)"
   ]
  },
  {
   "cell_type": "code",
   "execution_count": 64,
   "metadata": {
    "execution": {
     "iopub.execute_input": "2022-03-31T07:41:42.027378Z",
     "iopub.status.busy": "2022-03-31T07:41:42.026756Z"
    }
   },
   "outputs": [
    {
     "name": "stdout",
     "output_type": "stream",
     "text": [
      "--------fold:1--------\n",
      " MAE: 5.900405313819965\n",
      "--------fold:2--------\n",
      " MAE: 5.872650966751186\n",
      "--------fold:3--------\n",
      " MAE: 5.8998248719673025\n",
      "--------fold:4--------\n",
      " MAE: 5.889393409019383\n",
      "--------fold:5--------\n",
      " MAE: 5.862598290171109\n"
     ]
    }
   ],
   "source": [
    "kfolds(model4)"
   ]
  },
  {
   "cell_type": "code",
   "execution_count": 65,
   "metadata": {},
   "outputs": [
    {
     "data": {
      "text/plain": [
       "array([0.2323908 , 0.22272789, 0.35934068, 0.        , 0.00961511,\n",
       "       0.01255399, 0.12419381, 0.00744046, 0.02321957, 0.0085177 ])"
      ]
     },
     "execution_count": 65,
     "metadata": {},
     "output_type": "execute_result"
    }
   ],
   "source": [
    "model4.feature_importances_"
   ]
  },
  {
   "cell_type": "code",
   "execution_count": 66,
   "metadata": {},
   "outputs": [],
   "source": [
    "feature_importance = pd.DataFrame({'Importance':model4.feature_importances_}, index = X.columns).sort_values('Importance')"
   ]
  },
  {
   "cell_type": "code",
   "execution_count": 67,
   "metadata": {},
   "outputs": [
    {
     "data": {
      "text/html": [
       "<div>\n",
       "<style scoped>\n",
       "    .dataframe tbody tr th:only-of-type {\n",
       "        vertical-align: middle;\n",
       "    }\n",
       "\n",
       "    .dataframe tbody tr th {\n",
       "        vertical-align: top;\n",
       "    }\n",
       "\n",
       "    .dataframe thead th {\n",
       "        text-align: right;\n",
       "    }\n",
       "</style>\n",
       "<table border=\"1\" class=\"dataframe\">\n",
       "  <thead>\n",
       "    <tr style=\"text-align: right;\">\n",
       "      <th></th>\n",
       "      <th>Importance</th>\n",
       "    </tr>\n",
       "  </thead>\n",
       "  <tbody>\n",
       "    <tr>\n",
       "      <th>year</th>\n",
       "      <td>0.000000</td>\n",
       "    </tr>\n",
       "    <tr>\n",
       "      <th>minute</th>\n",
       "      <td>0.007440</td>\n",
       "    </tr>\n",
       "    <tr>\n",
       "      <th>is_weekend</th>\n",
       "      <td>0.008518</td>\n",
       "    </tr>\n",
       "    <tr>\n",
       "      <th>month</th>\n",
       "      <td>0.009615</td>\n",
       "    </tr>\n",
       "    <tr>\n",
       "      <th>day</th>\n",
       "      <td>0.012554</td>\n",
       "    </tr>\n",
       "    <tr>\n",
       "      <th>weekday</th>\n",
       "      <td>0.023220</td>\n",
       "    </tr>\n",
       "    <tr>\n",
       "      <th>hour</th>\n",
       "      <td>0.124194</td>\n",
       "    </tr>\n",
       "    <tr>\n",
       "      <th>y</th>\n",
       "      <td>0.222728</td>\n",
       "    </tr>\n",
       "    <tr>\n",
       "      <th>x</th>\n",
       "      <td>0.232391</td>\n",
       "    </tr>\n",
       "    <tr>\n",
       "      <th>direction</th>\n",
       "      <td>0.359341</td>\n",
       "    </tr>\n",
       "  </tbody>\n",
       "</table>\n",
       "</div>"
      ],
      "text/plain": [
       "            Importance\n",
       "year          0.000000\n",
       "minute        0.007440\n",
       "is_weekend    0.008518\n",
       "month         0.009615\n",
       "day           0.012554\n",
       "weekday       0.023220\n",
       "hour          0.124194\n",
       "y             0.222728\n",
       "x             0.232391\n",
       "direction     0.359341"
      ]
     },
     "execution_count": 67,
     "metadata": {},
     "output_type": "execute_result"
    }
   ],
   "source": [
    "feature_importance"
   ]
  },
  {
   "cell_type": "code",
   "execution_count": 68,
   "metadata": {},
   "outputs": [
    {
     "data": {
      "text/html": [
       "<div>\n",
       "<style scoped>\n",
       "    .dataframe tbody tr th:only-of-type {\n",
       "        vertical-align: middle;\n",
       "    }\n",
       "\n",
       "    .dataframe tbody tr th {\n",
       "        vertical-align: top;\n",
       "    }\n",
       "\n",
       "    .dataframe thead th {\n",
       "        text-align: right;\n",
       "    }\n",
       "</style>\n",
       "<table border=\"1\" class=\"dataframe\">\n",
       "  <thead>\n",
       "    <tr style=\"text-align: right;\">\n",
       "      <th></th>\n",
       "      <th>Importance</th>\n",
       "    </tr>\n",
       "  </thead>\n",
       "  <tbody>\n",
       "    <tr>\n",
       "      <th>day</th>\n",
       "      <td>0.012554</td>\n",
       "    </tr>\n",
       "    <tr>\n",
       "      <th>weekday</th>\n",
       "      <td>0.023220</td>\n",
       "    </tr>\n",
       "    <tr>\n",
       "      <th>hour</th>\n",
       "      <td>0.124194</td>\n",
       "    </tr>\n",
       "    <tr>\n",
       "      <th>y</th>\n",
       "      <td>0.222728</td>\n",
       "    </tr>\n",
       "    <tr>\n",
       "      <th>x</th>\n",
       "      <td>0.232391</td>\n",
       "    </tr>\n",
       "    <tr>\n",
       "      <th>direction</th>\n",
       "      <td>0.359341</td>\n",
       "    </tr>\n",
       "  </tbody>\n",
       "</table>\n",
       "</div>"
      ],
      "text/plain": [
       "           Importance\n",
       "day          0.012554\n",
       "weekday      0.023220\n",
       "hour         0.124194\n",
       "y            0.222728\n",
       "x            0.232391\n",
       "direction    0.359341"
      ]
     },
     "execution_count": 68,
     "metadata": {},
     "output_type": "execute_result"
    }
   ],
   "source": [
    "feature_importance = feature_importance[feature_importance.Importance > 0.01]\n",
    "feature_importance"
   ]
  },
  {
   "cell_type": "code",
   "execution_count": 69,
   "metadata": {},
   "outputs": [
    {
     "data": {
      "text/html": [
       "<div>\n",
       "<style scoped>\n",
       "    .dataframe tbody tr th:only-of-type {\n",
       "        vertical-align: middle;\n",
       "    }\n",
       "\n",
       "    .dataframe tbody tr th {\n",
       "        vertical-align: top;\n",
       "    }\n",
       "\n",
       "    .dataframe thead th {\n",
       "        text-align: right;\n",
       "    }\n",
       "</style>\n",
       "<table border=\"1\" class=\"dataframe\">\n",
       "  <thead>\n",
       "    <tr style=\"text-align: right;\">\n",
       "      <th></th>\n",
       "      <th>day</th>\n",
       "      <th>weekday</th>\n",
       "      <th>hour</th>\n",
       "      <th>y</th>\n",
       "      <th>x</th>\n",
       "      <th>direction</th>\n",
       "    </tr>\n",
       "    <tr>\n",
       "      <th>row_id</th>\n",
       "      <th></th>\n",
       "      <th></th>\n",
       "      <th></th>\n",
       "      <th></th>\n",
       "      <th></th>\n",
       "      <th></th>\n",
       "    </tr>\n",
       "  </thead>\n",
       "  <tbody>\n",
       "    <tr>\n",
       "      <th>0</th>\n",
       "      <td>1</td>\n",
       "      <td>0</td>\n",
       "      <td>0</td>\n",
       "      <td>0</td>\n",
       "      <td>0</td>\n",
       "      <td>0</td>\n",
       "    </tr>\n",
       "    <tr>\n",
       "      <th>1</th>\n",
       "      <td>1</td>\n",
       "      <td>0</td>\n",
       "      <td>0</td>\n",
       "      <td>0</td>\n",
       "      <td>0</td>\n",
       "      <td>1</td>\n",
       "    </tr>\n",
       "    <tr>\n",
       "      <th>2</th>\n",
       "      <td>1</td>\n",
       "      <td>0</td>\n",
       "      <td>0</td>\n",
       "      <td>0</td>\n",
       "      <td>0</td>\n",
       "      <td>4</td>\n",
       "    </tr>\n",
       "    <tr>\n",
       "      <th>3</th>\n",
       "      <td>1</td>\n",
       "      <td>0</td>\n",
       "      <td>0</td>\n",
       "      <td>1</td>\n",
       "      <td>0</td>\n",
       "      <td>0</td>\n",
       "    </tr>\n",
       "    <tr>\n",
       "      <th>4</th>\n",
       "      <td>1</td>\n",
       "      <td>0</td>\n",
       "      <td>0</td>\n",
       "      <td>1</td>\n",
       "      <td>0</td>\n",
       "      <td>1</td>\n",
       "    </tr>\n",
       "    <tr>\n",
       "      <th>...</th>\n",
       "      <td>...</td>\n",
       "      <td>...</td>\n",
       "      <td>...</td>\n",
       "      <td>...</td>\n",
       "      <td>...</td>\n",
       "      <td>...</td>\n",
       "    </tr>\n",
       "    <tr>\n",
       "      <th>848830</th>\n",
       "      <td>30</td>\n",
       "      <td>0</td>\n",
       "      <td>11</td>\n",
       "      <td>3</td>\n",
       "      <td>2</td>\n",
       "      <td>1</td>\n",
       "    </tr>\n",
       "    <tr>\n",
       "      <th>848831</th>\n",
       "      <td>30</td>\n",
       "      <td>0</td>\n",
       "      <td>11</td>\n",
       "      <td>3</td>\n",
       "      <td>2</td>\n",
       "      <td>2</td>\n",
       "    </tr>\n",
       "    <tr>\n",
       "      <th>848832</th>\n",
       "      <td>30</td>\n",
       "      <td>0</td>\n",
       "      <td>11</td>\n",
       "      <td>3</td>\n",
       "      <td>2</td>\n",
       "      <td>4</td>\n",
       "    </tr>\n",
       "    <tr>\n",
       "      <th>848833</th>\n",
       "      <td>30</td>\n",
       "      <td>0</td>\n",
       "      <td>11</td>\n",
       "      <td>3</td>\n",
       "      <td>2</td>\n",
       "      <td>6</td>\n",
       "    </tr>\n",
       "    <tr>\n",
       "      <th>848834</th>\n",
       "      <td>30</td>\n",
       "      <td>0</td>\n",
       "      <td>11</td>\n",
       "      <td>3</td>\n",
       "      <td>2</td>\n",
       "      <td>7</td>\n",
       "    </tr>\n",
       "  </tbody>\n",
       "</table>\n",
       "<p>833058 rows × 6 columns</p>\n",
       "</div>"
      ],
      "text/plain": [
       "        day  weekday  hour  y  x  direction\n",
       "row_id                                     \n",
       "0         1        0     0  0  0          0\n",
       "1         1        0     0  0  0          1\n",
       "2         1        0     0  0  0          4\n",
       "3         1        0     0  1  0          0\n",
       "4         1        0     0  1  0          1\n",
       "...     ...      ...   ... .. ..        ...\n",
       "848830   30        0    11  3  2          1\n",
       "848831   30        0    11  3  2          2\n",
       "848832   30        0    11  3  2          4\n",
       "848833   30        0    11  3  2          6\n",
       "848834   30        0    11  3  2          7\n",
       "\n",
       "[833058 rows x 6 columns]"
      ]
     },
     "execution_count": 69,
     "metadata": {},
     "output_type": "execute_result"
    }
   ],
   "source": [
    "X1 = X[feature_importance.index]\n",
    "X1"
   ]
  },
  {
   "cell_type": "code",
   "execution_count": 70,
   "metadata": {},
   "outputs": [
    {
     "data": {
      "text/plain": [
       "row_id\n",
       "0         70\n",
       "1         49\n",
       "2         24\n",
       "3         18\n",
       "4         60\n",
       "          ..\n",
       "848830    54\n",
       "848831    28\n",
       "848832    68\n",
       "848833    17\n",
       "848834    24\n",
       "Name: congestion, Length: 833058, dtype: int64"
      ]
     },
     "execution_count": 70,
     "metadata": {},
     "output_type": "execute_result"
    }
   ],
   "source": [
    "y1 = y\n",
    "y1"
   ]
  },
  {
   "cell_type": "code",
   "execution_count": 71,
   "metadata": {},
   "outputs": [],
   "source": [
    "X1_train, X1_val, y1_train, y1_val = train_test_split(X1, y)"
   ]
  },
  {
   "cell_type": "code",
   "execution_count": 72,
   "metadata": {},
   "outputs": [
    {
     "data": {
      "text/plain": [
       "(0.7633708406840282, 0.7420872771750412)"
      ]
     },
     "execution_count": 72,
     "metadata": {},
     "output_type": "execute_result"
    }
   ],
   "source": [
    "model7 = RandomForestRegressor(max_depth = 14)\n",
    "model7.fit(X1_train, y1_train)\n",
    "model7.score(X1_train, y1_train), model7.score(X1_val, y1_val)"
   ]
  },
  {
   "cell_type": "code",
   "execution_count": 73,
   "metadata": {},
   "outputs": [
    {
     "name": "stdout",
     "output_type": "stream",
     "text": [
      "--------fold:1--------\n",
      " MAE: 5.802903264192362\n",
      "--------fold:2--------\n",
      " MAE: 5.779620124510147\n",
      "--------fold:3--------\n",
      " MAE: 5.811030509113284\n",
      "--------fold:4--------\n",
      " MAE: 5.79518160114752\n",
      "--------fold:5--------\n",
      " MAE: 5.771807530504667\n"
     ]
    }
   ],
   "source": [
    "kfolds(model7)"
   ]
  },
  {
   "cell_type": "code",
   "execution_count": 75,
   "metadata": {},
   "outputs": [],
   "source": [
    "from xgboost import XGBRegressor"
   ]
  },
  {
   "cell_type": "code",
   "execution_count": 76,
   "metadata": {},
   "outputs": [
    {
     "data": {
      "text/html": [
       "<style>#sk-container-id-5 {color: black;background-color: white;}#sk-container-id-5 pre{padding: 0;}#sk-container-id-5 div.sk-toggleable {background-color: white;}#sk-container-id-5 label.sk-toggleable__label {cursor: pointer;display: block;width: 100%;margin-bottom: 0;padding: 0.3em;box-sizing: border-box;text-align: center;}#sk-container-id-5 label.sk-toggleable__label-arrow:before {content: \"▸\";float: left;margin-right: 0.25em;color: #696969;}#sk-container-id-5 label.sk-toggleable__label-arrow:hover:before {color: black;}#sk-container-id-5 div.sk-estimator:hover label.sk-toggleable__label-arrow:before {color: black;}#sk-container-id-5 div.sk-toggleable__content {max-height: 0;max-width: 0;overflow: hidden;text-align: left;background-color: #f0f8ff;}#sk-container-id-5 div.sk-toggleable__content pre {margin: 0.2em;color: black;border-radius: 0.25em;background-color: #f0f8ff;}#sk-container-id-5 input.sk-toggleable__control:checked~div.sk-toggleable__content {max-height: 200px;max-width: 100%;overflow: auto;}#sk-container-id-5 input.sk-toggleable__control:checked~label.sk-toggleable__label-arrow:before {content: \"▾\";}#sk-container-id-5 div.sk-estimator input.sk-toggleable__control:checked~label.sk-toggleable__label {background-color: #d4ebff;}#sk-container-id-5 div.sk-label input.sk-toggleable__control:checked~label.sk-toggleable__label {background-color: #d4ebff;}#sk-container-id-5 input.sk-hidden--visually {border: 0;clip: rect(1px 1px 1px 1px);clip: rect(1px, 1px, 1px, 1px);height: 1px;margin: -1px;overflow: hidden;padding: 0;position: absolute;width: 1px;}#sk-container-id-5 div.sk-estimator {font-family: monospace;background-color: #f0f8ff;border: 1px dotted black;border-radius: 0.25em;box-sizing: border-box;margin-bottom: 0.5em;}#sk-container-id-5 div.sk-estimator:hover {background-color: #d4ebff;}#sk-container-id-5 div.sk-parallel-item::after {content: \"\";width: 100%;border-bottom: 1px solid gray;flex-grow: 1;}#sk-container-id-5 div.sk-label:hover label.sk-toggleable__label {background-color: #d4ebff;}#sk-container-id-5 div.sk-serial::before {content: \"\";position: absolute;border-left: 1px solid gray;box-sizing: border-box;top: 0;bottom: 0;left: 50%;z-index: 0;}#sk-container-id-5 div.sk-serial {display: flex;flex-direction: column;align-items: center;background-color: white;padding-right: 0.2em;padding-left: 0.2em;position: relative;}#sk-container-id-5 div.sk-item {position: relative;z-index: 1;}#sk-container-id-5 div.sk-parallel {display: flex;align-items: stretch;justify-content: center;background-color: white;position: relative;}#sk-container-id-5 div.sk-item::before, #sk-container-id-5 div.sk-parallel-item::before {content: \"\";position: absolute;border-left: 1px solid gray;box-sizing: border-box;top: 0;bottom: 0;left: 50%;z-index: -1;}#sk-container-id-5 div.sk-parallel-item {display: flex;flex-direction: column;z-index: 1;position: relative;background-color: white;}#sk-container-id-5 div.sk-parallel-item:first-child::after {align-self: flex-end;width: 50%;}#sk-container-id-5 div.sk-parallel-item:last-child::after {align-self: flex-start;width: 50%;}#sk-container-id-5 div.sk-parallel-item:only-child::after {width: 0;}#sk-container-id-5 div.sk-dashed-wrapped {border: 1px dashed gray;margin: 0 0.4em 0.5em 0.4em;box-sizing: border-box;padding-bottom: 0.4em;background-color: white;}#sk-container-id-5 div.sk-label label {font-family: monospace;font-weight: bold;display: inline-block;line-height: 1.2em;}#sk-container-id-5 div.sk-label-container {text-align: center;}#sk-container-id-5 div.sk-container {/* jupyter's `normalize.less` sets `[hidden] { display: none; }` but bootstrap.min.css set `[hidden] { display: none !important; }` so we also need the `!important` here to be able to override the default hidden behavior on the sphinx rendered scikit-learn.org. See: https://github.com/scikit-learn/scikit-learn/issues/21755 */display: inline-block !important;position: relative;}#sk-container-id-5 div.sk-text-repr-fallback {display: none;}</style><div id=\"sk-container-id-5\" class=\"sk-top-container\"><div class=\"sk-text-repr-fallback\"><pre>XGBRegressor(base_score=0.5, booster=&#x27;gbtree&#x27;, callbacks=None,\n",
       "             colsample_bylevel=1, colsample_bynode=1, colsample_bytree=1,\n",
       "             early_stopping_rounds=None, enable_categorical=False,\n",
       "             eval_metric=None, gamma=0, gpu_id=-1, grow_policy=&#x27;depthwise&#x27;,\n",
       "             importance_type=None, interaction_constraints=&#x27;&#x27;,\n",
       "             learning_rate=0.07, max_bin=256, max_cat_to_onehot=4,\n",
       "             max_delta_step=0, max_depth=15, max_leaves=0, min_child_weight=1,\n",
       "             missing=nan, monotone_constraints=&#x27;()&#x27;, n_estimators=100, n_jobs=0,\n",
       "             num_parallel_tree=1, predictor=&#x27;auto&#x27;, random_state=0, reg_alpha=0,\n",
       "             reg_lambda=1, ...)</pre><b>In a Jupyter environment, please rerun this cell to show the HTML representation or trust the notebook. <br />On GitHub, the HTML representation is unable to render, please try loading this page with nbviewer.org.</b></div><div class=\"sk-container\" hidden><div class=\"sk-item\"><div class=\"sk-estimator sk-toggleable\"><input class=\"sk-toggleable__control sk-hidden--visually\" id=\"sk-estimator-id-5\" type=\"checkbox\" checked><label for=\"sk-estimator-id-5\" class=\"sk-toggleable__label sk-toggleable__label-arrow\">XGBRegressor</label><div class=\"sk-toggleable__content\"><pre>XGBRegressor(base_score=0.5, booster=&#x27;gbtree&#x27;, callbacks=None,\n",
       "             colsample_bylevel=1, colsample_bynode=1, colsample_bytree=1,\n",
       "             early_stopping_rounds=None, enable_categorical=False,\n",
       "             eval_metric=None, gamma=0, gpu_id=-1, grow_policy=&#x27;depthwise&#x27;,\n",
       "             importance_type=None, interaction_constraints=&#x27;&#x27;,\n",
       "             learning_rate=0.07, max_bin=256, max_cat_to_onehot=4,\n",
       "             max_delta_step=0, max_depth=15, max_leaves=0, min_child_weight=1,\n",
       "             missing=nan, monotone_constraints=&#x27;()&#x27;, n_estimators=100, n_jobs=0,\n",
       "             num_parallel_tree=1, predictor=&#x27;auto&#x27;, random_state=0, reg_alpha=0,\n",
       "             reg_lambda=1, ...)</pre></div></div></div></div></div>"
      ],
      "text/plain": [
       "XGBRegressor(base_score=0.5, booster='gbtree', callbacks=None,\n",
       "             colsample_bylevel=1, colsample_bynode=1, colsample_bytree=1,\n",
       "             early_stopping_rounds=None, enable_categorical=False,\n",
       "             eval_metric=None, gamma=0, gpu_id=-1, grow_policy='depthwise',\n",
       "             importance_type=None, interaction_constraints='',\n",
       "             learning_rate=0.07, max_bin=256, max_cat_to_onehot=4,\n",
       "             max_delta_step=0, max_depth=15, max_leaves=0, min_child_weight=1,\n",
       "             missing=nan, monotone_constraints='()', n_estimators=100, n_jobs=0,\n",
       "             num_parallel_tree=1, predictor='auto', random_state=0, reg_alpha=0,\n",
       "             reg_lambda=1, ...)"
      ]
     },
     "execution_count": 76,
     "metadata": {},
     "output_type": "execute_result"
    }
   ],
   "source": [
    "model5 = XGBRegressor(max_depth = 15, learning_rate = 0.07)\n",
    "model5.fit(X_train, y_train)"
   ]
  },
  {
   "cell_type": "code",
   "execution_count": 77,
   "metadata": {},
   "outputs": [
    {
     "data": {
      "text/plain": [
       "(0.8690001443089987, 0.7724369368382965)"
      ]
     },
     "execution_count": 77,
     "metadata": {},
     "output_type": "execute_result"
    }
   ],
   "source": [
    "model5.score(X_train, y_train), model5.score(X_val, y_val)"
   ]
  },
  {
   "cell_type": "code",
   "execution_count": 78,
   "metadata": {},
   "outputs": [
    {
     "name": "stdout",
     "output_type": "stream",
     "text": [
      "--------fold:1--------\n",
      " MAE: 5.5313536168787545\n",
      "--------fold:2--------\n",
      " MAE: 5.508619125363372\n",
      "--------fold:3--------\n",
      " MAE: 5.53794562488639\n",
      "--------fold:4--------\n",
      " MAE: 5.510677413314343\n",
      "--------fold:5--------\n",
      " MAE: 5.510237740064819\n"
     ]
    }
   ],
   "source": [
    "kfolds(model5)"
   ]
  },
  {
   "cell_type": "code",
   "execution_count": 79,
   "metadata": {},
   "outputs": [],
   "source": [
    "model6 = CatBoostRegressor(logging_level = 'Silent', depth = 12,\n",
    "                                  eval_metric = 'MAE', loss_function = 'MAE', n_estimators = 1200, task_type = 'GPU')"
   ]
  },
  {
   "cell_type": "code",
   "execution_count": null,
   "metadata": {},
   "outputs": [],
   "source": [
    "#model6.score(X_train, y_train), model6.score(X_val, y_val)"
   ]
  },
  {
   "cell_type": "code",
   "execution_count": 80,
   "metadata": {},
   "outputs": [
    {
     "name": "stdout",
     "output_type": "stream",
     "text": [
      "--------fold:1--------\n"
     ]
    },
    {
     "name": "stderr",
     "output_type": "stream",
     "text": [
      "Default metric period is 5 because MAE is/are not implemented for GPU\n"
     ]
    },
    {
     "name": "stdout",
     "output_type": "stream",
     "text": [
      " MAE: 7.935777185981659\n",
      "--------fold:2--------\n"
     ]
    },
    {
     "name": "stderr",
     "output_type": "stream",
     "text": [
      "Default metric period is 5 because MAE is/are not implemented for GPU\n"
     ]
    },
    {
     "name": "stdout",
     "output_type": "stream",
     "text": [
      " MAE: 7.9304795339144984\n",
      "--------fold:3--------\n"
     ]
    },
    {
     "name": "stderr",
     "output_type": "stream",
     "text": [
      "Default metric period is 5 because MAE is/are not implemented for GPU\n"
     ]
    },
    {
     "name": "stdout",
     "output_type": "stream",
     "text": [
      " MAE: 7.933822551835025\n",
      "--------fold:4--------\n"
     ]
    },
    {
     "name": "stderr",
     "output_type": "stream",
     "text": [
      "Default metric period is 5 because MAE is/are not implemented for GPU\n"
     ]
    },
    {
     "name": "stdout",
     "output_type": "stream",
     "text": [
      " MAE: 7.923000159960241\n",
      "--------fold:5--------\n"
     ]
    },
    {
     "name": "stderr",
     "output_type": "stream",
     "text": [
      "Default metric period is 5 because MAE is/are not implemented for GPU\n"
     ]
    },
    {
     "name": "stdout",
     "output_type": "stream",
     "text": [
      " MAE: 7.9072921363766975\n"
     ]
    }
   ],
   "source": [
    "kfolds(model6)"
   ]
  },
  {
   "cell_type": "code",
   "execution_count": 81,
   "metadata": {},
   "outputs": [],
   "source": [
    "test_data = pd.read_csv('C:/Users/hp/Documents/tps_mar22_test.csv', index_col = 'row_id')"
   ]
  },
  {
   "cell_type": "code",
   "execution_count": 82,
   "metadata": {},
   "outputs": [
    {
     "data": {
      "text/html": [
       "<div>\n",
       "<style scoped>\n",
       "    .dataframe tbody tr th:only-of-type {\n",
       "        vertical-align: middle;\n",
       "    }\n",
       "\n",
       "    .dataframe tbody tr th {\n",
       "        vertical-align: top;\n",
       "    }\n",
       "\n",
       "    .dataframe thead th {\n",
       "        text-align: right;\n",
       "    }\n",
       "</style>\n",
       "<table border=\"1\" class=\"dataframe\">\n",
       "  <thead>\n",
       "    <tr style=\"text-align: right;\">\n",
       "      <th></th>\n",
       "      <th>x</th>\n",
       "      <th>y</th>\n",
       "      <th>direction</th>\n",
       "      <th>year</th>\n",
       "      <th>month</th>\n",
       "      <th>day</th>\n",
       "      <th>hour</th>\n",
       "      <th>minute</th>\n",
       "      <th>weekday</th>\n",
       "      <th>is_weekend</th>\n",
       "    </tr>\n",
       "    <tr>\n",
       "      <th>row_id</th>\n",
       "      <th></th>\n",
       "      <th></th>\n",
       "      <th></th>\n",
       "      <th></th>\n",
       "      <th></th>\n",
       "      <th></th>\n",
       "      <th></th>\n",
       "      <th></th>\n",
       "      <th></th>\n",
       "      <th></th>\n",
       "    </tr>\n",
       "  </thead>\n",
       "  <tbody>\n",
       "    <tr>\n",
       "      <th>848835</th>\n",
       "      <td>0</td>\n",
       "      <td>0</td>\n",
       "      <td>0</td>\n",
       "      <td>1991</td>\n",
       "      <td>9</td>\n",
       "      <td>30</td>\n",
       "      <td>12</td>\n",
       "      <td>0</td>\n",
       "      <td>0</td>\n",
       "      <td>0</td>\n",
       "    </tr>\n",
       "    <tr>\n",
       "      <th>848836</th>\n",
       "      <td>0</td>\n",
       "      <td>0</td>\n",
       "      <td>1</td>\n",
       "      <td>1991</td>\n",
       "      <td>9</td>\n",
       "      <td>30</td>\n",
       "      <td>12</td>\n",
       "      <td>0</td>\n",
       "      <td>0</td>\n",
       "      <td>0</td>\n",
       "    </tr>\n",
       "    <tr>\n",
       "      <th>848837</th>\n",
       "      <td>0</td>\n",
       "      <td>0</td>\n",
       "      <td>4</td>\n",
       "      <td>1991</td>\n",
       "      <td>9</td>\n",
       "      <td>30</td>\n",
       "      <td>12</td>\n",
       "      <td>0</td>\n",
       "      <td>0</td>\n",
       "      <td>0</td>\n",
       "    </tr>\n",
       "    <tr>\n",
       "      <th>848838</th>\n",
       "      <td>0</td>\n",
       "      <td>1</td>\n",
       "      <td>0</td>\n",
       "      <td>1991</td>\n",
       "      <td>9</td>\n",
       "      <td>30</td>\n",
       "      <td>12</td>\n",
       "      <td>0</td>\n",
       "      <td>0</td>\n",
       "      <td>0</td>\n",
       "    </tr>\n",
       "    <tr>\n",
       "      <th>848839</th>\n",
       "      <td>0</td>\n",
       "      <td>1</td>\n",
       "      <td>1</td>\n",
       "      <td>1991</td>\n",
       "      <td>9</td>\n",
       "      <td>30</td>\n",
       "      <td>12</td>\n",
       "      <td>0</td>\n",
       "      <td>0</td>\n",
       "      <td>0</td>\n",
       "    </tr>\n",
       "  </tbody>\n",
       "</table>\n",
       "</div>"
      ],
      "text/plain": [
       "        x  y  direction  year  month  day  hour  minute  weekday  is_weekend\n",
       "row_id                                                                      \n",
       "848835  0  0          0  1991      9   30    12       0        0           0\n",
       "848836  0  0          1  1991      9   30    12       0        0           0\n",
       "848837  0  0          4  1991      9   30    12       0        0           0\n",
       "848838  0  1          0  1991      9   30    12       0        0           0\n",
       "848839  0  1          1  1991      9   30    12       0        0           0"
      ]
     },
     "execution_count": 82,
     "metadata": {},
     "output_type": "execute_result"
    }
   ],
   "source": [
    "preprocess(test_data)\n",
    "test_data.head()"
   ]
  },
  {
   "cell_type": "code",
   "execution_count": 83,
   "metadata": {},
   "outputs": [
    {
     "data": {
      "text/plain": [
       "array([44.35691 , 42.81035 , 56.772896, ..., 68.95638 , 19.91034 ,\n",
       "       42.97613 ], dtype=float32)"
      ]
     },
     "execution_count": 83,
     "metadata": {},
     "output_type": "execute_result"
    }
   ],
   "source": [
    "y_pred = model5.predict(test_data)\n",
    "y_pred"
   ]
  },
  {
   "cell_type": "code",
   "execution_count": 84,
   "metadata": {},
   "outputs": [
    {
     "data": {
      "text/html": [
       "<div>\n",
       "<style scoped>\n",
       "    .dataframe tbody tr th:only-of-type {\n",
       "        vertical-align: middle;\n",
       "    }\n",
       "\n",
       "    .dataframe tbody tr th {\n",
       "        vertical-align: top;\n",
       "    }\n",
       "\n",
       "    .dataframe thead th {\n",
       "        text-align: right;\n",
       "    }\n",
       "</style>\n",
       "<table border=\"1\" class=\"dataframe\">\n",
       "  <thead>\n",
       "    <tr style=\"text-align: right;\">\n",
       "      <th></th>\n",
       "      <th>congestion</th>\n",
       "    </tr>\n",
       "    <tr>\n",
       "      <th>row_id</th>\n",
       "      <th></th>\n",
       "    </tr>\n",
       "  </thead>\n",
       "  <tbody>\n",
       "    <tr>\n",
       "      <th>848835</th>\n",
       "      <td>0.0</td>\n",
       "    </tr>\n",
       "    <tr>\n",
       "      <th>848836</th>\n",
       "      <td>0.0</td>\n",
       "    </tr>\n",
       "    <tr>\n",
       "      <th>848837</th>\n",
       "      <td>0.0</td>\n",
       "    </tr>\n",
       "    <tr>\n",
       "      <th>848838</th>\n",
       "      <td>0.0</td>\n",
       "    </tr>\n",
       "    <tr>\n",
       "      <th>848839</th>\n",
       "      <td>0.0</td>\n",
       "    </tr>\n",
       "  </tbody>\n",
       "</table>\n",
       "</div>"
      ],
      "text/plain": [
       "        congestion\n",
       "row_id            \n",
       "848835         0.0\n",
       "848836         0.0\n",
       "848837         0.0\n",
       "848838         0.0\n",
       "848839         0.0"
      ]
     },
     "execution_count": 84,
     "metadata": {},
     "output_type": "execute_result"
    }
   ],
   "source": [
    "sub_csv = pd.read_csv('C:/Users/hp/Documents/tps_mar22_sample_submission.csv', index_col = 'row_id')\n",
    "sub_csv.head()"
   ]
  },
  {
   "cell_type": "code",
   "execution_count": 85,
   "metadata": {},
   "outputs": [
    {
     "data": {
      "text/html": [
       "<div>\n",
       "<style scoped>\n",
       "    .dataframe tbody tr th:only-of-type {\n",
       "        vertical-align: middle;\n",
       "    }\n",
       "\n",
       "    .dataframe tbody tr th {\n",
       "        vertical-align: top;\n",
       "    }\n",
       "\n",
       "    .dataframe thead th {\n",
       "        text-align: right;\n",
       "    }\n",
       "</style>\n",
       "<table border=\"1\" class=\"dataframe\">\n",
       "  <thead>\n",
       "    <tr style=\"text-align: right;\">\n",
       "      <th></th>\n",
       "      <th>congestion</th>\n",
       "    </tr>\n",
       "    <tr>\n",
       "      <th>row_id</th>\n",
       "      <th></th>\n",
       "    </tr>\n",
       "  </thead>\n",
       "  <tbody>\n",
       "    <tr>\n",
       "      <th>848835</th>\n",
       "      <td>44.356911</td>\n",
       "    </tr>\n",
       "    <tr>\n",
       "      <th>848836</th>\n",
       "      <td>42.810349</td>\n",
       "    </tr>\n",
       "    <tr>\n",
       "      <th>848837</th>\n",
       "      <td>56.772896</td>\n",
       "    </tr>\n",
       "    <tr>\n",
       "      <th>848838</th>\n",
       "      <td>22.549879</td>\n",
       "    </tr>\n",
       "    <tr>\n",
       "      <th>848839</th>\n",
       "      <td>71.256714</td>\n",
       "    </tr>\n",
       "  </tbody>\n",
       "</table>\n",
       "</div>"
      ],
      "text/plain": [
       "        congestion\n",
       "row_id            \n",
       "848835   44.356911\n",
       "848836   42.810349\n",
       "848837   56.772896\n",
       "848838   22.549879\n",
       "848839   71.256714"
      ]
     },
     "execution_count": 85,
     "metadata": {},
     "output_type": "execute_result"
    }
   ],
   "source": [
    "sub_csv['congestion'] = y_pred\n",
    "sub_csv.head()"
   ]
  },
  {
   "cell_type": "code",
   "execution_count": 86,
   "metadata": {},
   "outputs": [],
   "source": [
    "sub_csv.to_csv('submission7.csv')"
   ]
  },
  {
   "cell_type": "code",
   "execution_count": null,
   "metadata": {},
   "outputs": [],
   "source": [
    "\n"
   ]
  }
 ],
 "metadata": {
  "kernelspec": {
   "display_name": "Python 3 (ipykernel)",
   "language": "python",
   "name": "python3"
  },
  "language_info": {
   "codemirror_mode": {
    "name": "ipython",
    "version": 3
   },
   "file_extension": ".py",
   "mimetype": "text/x-python",
   "name": "python",
   "nbconvert_exporter": "python",
   "pygments_lexer": "ipython3",
   "version": "3.9.12"
  }
 },
 "nbformat": 4,
 "nbformat_minor": 4
}
